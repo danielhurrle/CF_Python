{
 "cells": [
  {
   "cell_type": "code",
   "execution_count": 1,
   "id": "b758cb9a",
   "metadata": {},
   "outputs": [],
   "source": [
    "# importing libraries\n",
    "import pandas as pd\n",
    "import numpy as np\n",
    "import os\n",
    "import matplotlib.pyplot as plt\n",
    "import seaborn as sns\n",
    "import scipy"
   ]
  },
  {
   "cell_type": "code",
   "execution_count": 2,
   "id": "d4e76196",
   "metadata": {},
   "outputs": [],
   "source": [
    "#defining folder path\n",
    "path = r'/Users/daniel/Library/CloudStorage/OneDrive-Persönlich/00 Synology/01 Dokumente/2023 Docs/99 CareerFoundry/04 Python/00 Instacart'"
   ]
  },
  {
   "cell_type": "code",
   "execution_count": 3,
   "id": "08f12744",
   "metadata": {},
   "outputs": [],
   "source": [
    "# importing pickle\n",
    "ords_prods_cust = pd.read_pickle(os.path.join(path, '02 Data', 'Prepared Data', 'ords_prods_cust.pkl'))"
   ]
  },
  {
   "cell_type": "code",
   "execution_count": 4,
   "id": "84cb19d8",
   "metadata": {},
   "outputs": [
    {
     "data": {
      "text/html": [
       "<div>\n",
       "<style scoped>\n",
       "    .dataframe tbody tr th:only-of-type {\n",
       "        vertical-align: middle;\n",
       "    }\n",
       "\n",
       "    .dataframe tbody tr th {\n",
       "        vertical-align: top;\n",
       "    }\n",
       "\n",
       "    .dataframe thead th {\n",
       "        text-align: right;\n",
       "    }\n",
       "</style>\n",
       "<table border=\"1\" class=\"dataframe\">\n",
       "  <thead>\n",
       "    <tr style=\"text-align: right;\">\n",
       "      <th></th>\n",
       "      <th>order_id</th>\n",
       "      <th>user_id</th>\n",
       "      <th>order_number</th>\n",
       "      <th>orders_day_of_week</th>\n",
       "      <th>order_hour_of_day</th>\n",
       "      <th>days_since_prior_order</th>\n",
       "      <th>product_id</th>\n",
       "      <th>add_to_cart_order</th>\n",
       "      <th>reordered</th>\n",
       "      <th>product_name</th>\n",
       "      <th>...</th>\n",
       "      <th>frequency_flag</th>\n",
       "      <th>first_name</th>\n",
       "      <th>surname</th>\n",
       "      <th>gender</th>\n",
       "      <th>state</th>\n",
       "      <th>age</th>\n",
       "      <th>date_joined</th>\n",
       "      <th>n_dependants</th>\n",
       "      <th>fam_status</th>\n",
       "      <th>income</th>\n",
       "    </tr>\n",
       "  </thead>\n",
       "  <tbody>\n",
       "    <tr>\n",
       "      <th>0</th>\n",
       "      <td>2539329.0</td>\n",
       "      <td>1</td>\n",
       "      <td>1.0</td>\n",
       "      <td>2.0</td>\n",
       "      <td>8.0</td>\n",
       "      <td>NaN</td>\n",
       "      <td>196</td>\n",
       "      <td>1.0</td>\n",
       "      <td>0.0</td>\n",
       "      <td>Soda</td>\n",
       "      <td>...</td>\n",
       "      <td>Non-frequent customer</td>\n",
       "      <td>Linda</td>\n",
       "      <td>Nguyen</td>\n",
       "      <td>Female</td>\n",
       "      <td>Alabama</td>\n",
       "      <td>31</td>\n",
       "      <td>2/17/2019</td>\n",
       "      <td>3</td>\n",
       "      <td>married</td>\n",
       "      <td>40423</td>\n",
       "    </tr>\n",
       "    <tr>\n",
       "      <th>1</th>\n",
       "      <td>2398795.0</td>\n",
       "      <td>1</td>\n",
       "      <td>2.0</td>\n",
       "      <td>3.0</td>\n",
       "      <td>7.0</td>\n",
       "      <td>15.0</td>\n",
       "      <td>196</td>\n",
       "      <td>1.0</td>\n",
       "      <td>1.0</td>\n",
       "      <td>Soda</td>\n",
       "      <td>...</td>\n",
       "      <td>Non-frequent customer</td>\n",
       "      <td>Linda</td>\n",
       "      <td>Nguyen</td>\n",
       "      <td>Female</td>\n",
       "      <td>Alabama</td>\n",
       "      <td>31</td>\n",
       "      <td>2/17/2019</td>\n",
       "      <td>3</td>\n",
       "      <td>married</td>\n",
       "      <td>40423</td>\n",
       "    </tr>\n",
       "    <tr>\n",
       "      <th>2</th>\n",
       "      <td>473747.0</td>\n",
       "      <td>1</td>\n",
       "      <td>3.0</td>\n",
       "      <td>3.0</td>\n",
       "      <td>12.0</td>\n",
       "      <td>21.0</td>\n",
       "      <td>196</td>\n",
       "      <td>1.0</td>\n",
       "      <td>1.0</td>\n",
       "      <td>Soda</td>\n",
       "      <td>...</td>\n",
       "      <td>Non-frequent customer</td>\n",
       "      <td>Linda</td>\n",
       "      <td>Nguyen</td>\n",
       "      <td>Female</td>\n",
       "      <td>Alabama</td>\n",
       "      <td>31</td>\n",
       "      <td>2/17/2019</td>\n",
       "      <td>3</td>\n",
       "      <td>married</td>\n",
       "      <td>40423</td>\n",
       "    </tr>\n",
       "    <tr>\n",
       "      <th>3</th>\n",
       "      <td>2254736.0</td>\n",
       "      <td>1</td>\n",
       "      <td>4.0</td>\n",
       "      <td>4.0</td>\n",
       "      <td>7.0</td>\n",
       "      <td>29.0</td>\n",
       "      <td>196</td>\n",
       "      <td>1.0</td>\n",
       "      <td>1.0</td>\n",
       "      <td>Soda</td>\n",
       "      <td>...</td>\n",
       "      <td>Non-frequent customer</td>\n",
       "      <td>Linda</td>\n",
       "      <td>Nguyen</td>\n",
       "      <td>Female</td>\n",
       "      <td>Alabama</td>\n",
       "      <td>31</td>\n",
       "      <td>2/17/2019</td>\n",
       "      <td>3</td>\n",
       "      <td>married</td>\n",
       "      <td>40423</td>\n",
       "    </tr>\n",
       "    <tr>\n",
       "      <th>4</th>\n",
       "      <td>431534.0</td>\n",
       "      <td>1</td>\n",
       "      <td>5.0</td>\n",
       "      <td>4.0</td>\n",
       "      <td>15.0</td>\n",
       "      <td>28.0</td>\n",
       "      <td>196</td>\n",
       "      <td>1.0</td>\n",
       "      <td>1.0</td>\n",
       "      <td>Soda</td>\n",
       "      <td>...</td>\n",
       "      <td>Non-frequent customer</td>\n",
       "      <td>Linda</td>\n",
       "      <td>Nguyen</td>\n",
       "      <td>Female</td>\n",
       "      <td>Alabama</td>\n",
       "      <td>31</td>\n",
       "      <td>2/17/2019</td>\n",
       "      <td>3</td>\n",
       "      <td>married</td>\n",
       "      <td>40423</td>\n",
       "    </tr>\n",
       "  </tbody>\n",
       "</table>\n",
       "<p>5 rows × 33 columns</p>\n",
       "</div>"
      ],
      "text/plain": [
       "    order_id  user_id  order_number  orders_day_of_week  order_hour_of_day  \\\n",
       "0  2539329.0        1           1.0                 2.0                8.0   \n",
       "1  2398795.0        1           2.0                 3.0                7.0   \n",
       "2   473747.0        1           3.0                 3.0               12.0   \n",
       "3  2254736.0        1           4.0                 4.0                7.0   \n",
       "4   431534.0        1           5.0                 4.0               15.0   \n",
       "\n",
       "   days_since_prior_order  product_id  add_to_cart_order  reordered  \\\n",
       "0                     NaN         196                1.0        0.0   \n",
       "1                    15.0         196                1.0        1.0   \n",
       "2                    21.0         196                1.0        1.0   \n",
       "3                    29.0         196                1.0        1.0   \n",
       "4                    28.0         196                1.0        1.0   \n",
       "\n",
       "  product_name  ...         frequency_flag  first_name  surname  gender  \\\n",
       "0         Soda  ...  Non-frequent customer       Linda   Nguyen  Female   \n",
       "1         Soda  ...  Non-frequent customer       Linda   Nguyen  Female   \n",
       "2         Soda  ...  Non-frequent customer       Linda   Nguyen  Female   \n",
       "3         Soda  ...  Non-frequent customer       Linda   Nguyen  Female   \n",
       "4         Soda  ...  Non-frequent customer       Linda   Nguyen  Female   \n",
       "\n",
       "     state age date_joined n_dependants  fam_status income  \n",
       "0  Alabama  31   2/17/2019            3     married  40423  \n",
       "1  Alabama  31   2/17/2019            3     married  40423  \n",
       "2  Alabama  31   2/17/2019            3     married  40423  \n",
       "3  Alabama  31   2/17/2019            3     married  40423  \n",
       "4  Alabama  31   2/17/2019            3     married  40423  \n",
       "\n",
       "[5 rows x 33 columns]"
      ]
     },
     "execution_count": 4,
     "metadata": {},
     "output_type": "execute_result"
    }
   ],
   "source": [
    "ords_prods_cust.head()"
   ]
  },
  {
   "cell_type": "code",
   "execution_count": 5,
   "id": "8f13b060",
   "metadata": {},
   "outputs": [
    {
     "name": "stdout",
     "output_type": "stream",
     "text": [
      "<class 'pandas.core.frame.DataFrame'>\n",
      "Int64Index: 32435059 entries, 0 to 32435058\n",
      "Data columns (total 33 columns):\n",
      " #   Column                  Dtype   \n",
      "---  ------                  -----   \n",
      " 0   order_id                float64 \n",
      " 1   user_id                 int64   \n",
      " 2   order_number            float64 \n",
      " 3   orders_day_of_week      float64 \n",
      " 4   order_hour_of_day       float64 \n",
      " 5   days_since_prior_order  float64 \n",
      " 6   product_id              int64   \n",
      " 7   add_to_cart_order       float64 \n",
      " 8   reordered               float64 \n",
      " 9   product_name            object  \n",
      " 10  aisle_id                float64 \n",
      " 11  department_id           float64 \n",
      " 12  prices                  float64 \n",
      " 13  _merge                  category\n",
      " 14  price_range_loc         object  \n",
      " 15  busiest_day             object  \n",
      " 16  Busiest_days            object  \n",
      " 17  busiest_hours           object  \n",
      " 18  max_order               float64 \n",
      " 19  loyalty_flag            object  \n",
      " 20  spending_flag           object  \n",
      " 21  avg_price               float64 \n",
      " 22  order_frequency         float64 \n",
      " 23  frequency_flag          object  \n",
      " 24  first_name              object  \n",
      " 25  surname                 object  \n",
      " 26  gender                  object  \n",
      " 27  state                   object  \n",
      " 28  age                     int64   \n",
      " 29  date_joined             object  \n",
      " 30  n_dependants            int64   \n",
      " 31  fam_status              object  \n",
      " 32  income                  int64   \n",
      "dtypes: category(1), float64(13), int64(5), object(14)\n",
      "memory usage: 8.0+ GB\n"
     ]
    }
   ],
   "source": [
    "ords_prods_cust.info()"
   ]
  },
  {
   "cell_type": "markdown",
   "id": "4d73f7f7",
   "metadata": {},
   "source": [
    "Consider any security implications that might exist for this new data. You’ll need to address any PII data in the data before continuing your analysis."
   ]
  },
  {
   "cell_type": "markdown",
   "id": "b10ad7f2",
   "metadata": {},
   "source": [
    "First_name and surname can be considered PII data and should be removed before sharing any data."
   ]
  },
  {
   "cell_type": "code",
   "execution_count": 6,
   "id": "d6bd1e15",
   "metadata": {},
   "outputs": [],
   "source": [
    "#dropping columns\n",
    "ords_prods_cust.drop(columns=['first_name', 'surname'], inplace=True)"
   ]
  },
  {
   "cell_type": "code",
   "execution_count": 7,
   "id": "99a14919",
   "metadata": {},
   "outputs": [
    {
     "data": {
      "text/plain": [
       "(32435059, 31)"
      ]
     },
     "execution_count": 7,
     "metadata": {},
     "output_type": "execute_result"
    }
   ],
   "source": [
    "#checking shape\n",
    "ords_prods_cust.shape"
   ]
  },
  {
   "cell_type": "code",
   "execution_count": 8,
   "id": "7868f0ae",
   "metadata": {},
   "outputs": [
    {
     "data": {
      "text/plain": [
       "Index(['order_id', 'user_id', 'order_number', 'orders_day_of_week',\n",
       "       'order_hour_of_day', 'days_since_prior_order', 'product_id',\n",
       "       'add_to_cart_order', 'reordered', 'product_name', 'aisle_id',\n",
       "       'department_id', 'prices', '_merge', 'price_range_loc', 'busiest_day',\n",
       "       'Busiest_days', 'busiest_hours', 'max_order', 'loyalty_flag',\n",
       "       'spending_flag', 'avg_price', 'order_frequency', 'frequency_flag',\n",
       "       'gender', 'state', 'age', 'date_joined', 'n_dependants', 'fam_status',\n",
       "       'income'],\n",
       "      dtype='object')"
      ]
     },
     "execution_count": 8,
     "metadata": {},
     "output_type": "execute_result"
    }
   ],
   "source": [
    "#checking columns\n",
    "ords_prods_cust.columns"
   ]
  },
  {
   "cell_type": "markdown",
   "id": "0bd44d57",
   "metadata": {},
   "source": [
    "### Creating regions"
   ]
  },
  {
   "cell_type": "markdown",
   "id": "14c51b3c",
   "metadata": {},
   "source": [
    "The Instacart officers are interested in comparing customer behavior in different geographic areas. Create a regional segmentation of the data. You’ll need to create a “Region” column based on the “State” column from your customers data set.\n",
    "Use the region information in this Wikipedia article to create your column (you only need to create regions, not divisions).\n",
    "Determine whether there’s a difference in spending habits between the different U.S. regions. (Hint: You can do this by crossing the variable you just created with the spending flag.)"
   ]
  },
  {
   "cell_type": "code",
   "execution_count": 9,
   "id": "dcb3c146",
   "metadata": {},
   "outputs": [
    {
     "data": {
      "text/plain": [
       "Pennsylvania            667738\n",
       "California              660428\n",
       "Rhode Island            657662\n",
       "Georgia                 657092\n",
       "New Mexico              655188\n",
       "Arizona                 654553\n",
       "North Carolina          652329\n",
       "Oklahoma                652275\n",
       "Alaska                  649026\n",
       "Minnesota               648424\n",
       "Massachusetts           647020\n",
       "Wyoming                 644927\n",
       "Virginia                642103\n",
       "Missouri                641323\n",
       "Texas                   641051\n",
       "Colorado                639820\n",
       "Maine                   639175\n",
       "North Dakota            638997\n",
       "Alabama                 638650\n",
       "Louisiana               638179\n",
       "Kansas                  638021\n",
       "Delaware                637477\n",
       "South Carolina          637423\n",
       "Oregon                  636966\n",
       "Arkansas                636737\n",
       "New York                636707\n",
       "Nevada                  636697\n",
       "Montana                 635838\n",
       "South Dakota            634362\n",
       "Illinois                633476\n",
       "Hawaii                  633446\n",
       "Washington              633445\n",
       "Mississippi             633130\n",
       "Kentucky                632955\n",
       "Michigan                631637\n",
       "Florida                 629631\n",
       "Ohio                    629016\n",
       "Wisconsin               628590\n",
       "New Jersey              628303\n",
       "Indiana                 627791\n",
       "Maryland                627273\n",
       "Nebraska                626294\n",
       "Iowa                    626085\n",
       "Connecticut             623594\n",
       "Tennessee               618405\n",
       "New Hampshire           615976\n",
       "District of Columbia    614334\n",
       "West Virginia           612938\n",
       "Utah                    612472\n",
       "Vermont                 612269\n",
       "Idaho                   607811\n",
       "Name: state, dtype: int64"
      ]
     },
     "execution_count": 9,
     "metadata": {},
     "output_type": "execute_result"
    }
   ],
   "source": [
    "ords_prods_cust['state'].value_counts()"
   ]
  },
  {
   "cell_type": "code",
   "execution_count": 10,
   "id": "73c0a2c1",
   "metadata": {},
   "outputs": [],
   "source": [
    "# creating list of states\n",
    "region_northeast = ['Maine', 'New Hampshire','Vermont'\n",
    ",'Massachusetts','Rhode Island', 'Connecticut', 'New York', 'Pennsylvania', 'New Jersey']"
   ]
  },
  {
   "cell_type": "code",
   "execution_count": 11,
   "id": "ac5f407c",
   "metadata": {},
   "outputs": [
    {
     "data": {
      "text/plain": [
       "['Maine',\n",
       " 'New Hampshire',\n",
       " 'Vermont',\n",
       " 'Massachusetts',\n",
       " 'Rhode Island',\n",
       " 'Connecticut',\n",
       " 'New York',\n",
       " 'Pennsylvania',\n",
       " 'New Jersey']"
      ]
     },
     "execution_count": 11,
     "metadata": {},
     "output_type": "execute_result"
    }
   ],
   "source": [
    "region_northeast"
   ]
  },
  {
   "cell_type": "code",
   "execution_count": 12,
   "id": "89d2415d",
   "metadata": {},
   "outputs": [],
   "source": [
    "region_midwest = ['Wisconsin', 'Michigan', 'Illinois', 'Indiana', 'Ohio', 'North Dakota', 'South Dakota', 'Nebraska', 'Kansas', 'Minnesota', 'Iowa', 'Missouri']"
   ]
  },
  {
   "cell_type": "code",
   "execution_count": 13,
   "id": "d3bb3b0c",
   "metadata": {},
   "outputs": [],
   "source": [
    "region_south = ['Delaware', 'Maryland', 'District of Columbia', 'Virginia', 'West Virginia', 'North Carolina', 'South Carolina', 'Georgia', 'Florida', 'Kentucky', 'Tennessee', 'Mississippi', 'Alabama', 'Oklahoma', 'Texas', 'Arkansas', 'Louisiana']\n"
   ]
  },
  {
   "cell_type": "code",
   "execution_count": 14,
   "id": "8bae90c4",
   "metadata": {},
   "outputs": [],
   "source": [
    "region_west = ['Idaho', 'Montana', 'Wyoming', 'Nevada', 'Utah', 'Colorado', 'Arizona', 'New Mexico', 'Alaska', 'Washington', 'Oregon', 'California', 'Hawaii']"
   ]
  },
  {
   "cell_type": "code",
   "execution_count": 15,
   "id": "376710c7",
   "metadata": {},
   "outputs": [],
   "source": [
    "# creating an ordered list with tolist\n",
    "allstates = ords_prods_cust['state'].tolist()"
   ]
  },
  {
   "cell_type": "code",
   "execution_count": 16,
   "id": "cc4d5164",
   "metadata": {},
   "outputs": [],
   "source": [
    "#assigning flags to list\n",
    "flags = []"
   ]
  },
  {
   "cell_type": "code",
   "execution_count": 17,
   "id": "342fe26e",
   "metadata": {},
   "outputs": [],
   "source": [
    "# assigning\n",
    "for row in allstates:\n",
    "    if row in region_northeast:\n",
    "        flags.append('Northeast')\n",
    "    elif row in region_midwest:\n",
    "        flags.append('Midwest')\n",
    "    elif row in region_south:\n",
    "        flags.append('South')\n",
    "    elif row in region_west:\n",
    "        flags.append('West')\n",
    "    else: print('No region match')"
   ]
  },
  {
   "cell_type": "code",
   "execution_count": 18,
   "id": "d36e1093",
   "metadata": {},
   "outputs": [],
   "source": [
    "# creating column from flags\n",
    "ords_prods_cust['region'] = flags"
   ]
  },
  {
   "cell_type": "code",
   "execution_count": 19,
   "id": "2b29a6a6",
   "metadata": {},
   "outputs": [
    {
     "data": {
      "text/plain": [
       "South        10801982\n",
       "West          8300617\n",
       "Midwest       7604016\n",
       "Northeast     5728444\n",
       "Name: region, dtype: int64"
      ]
     },
     "execution_count": 19,
     "metadata": {},
     "output_type": "execute_result"
    }
   ],
   "source": [
    "#checking output for missing values\n",
    "ords_prods_cust['region'].value_counts()"
   ]
  },
  {
   "cell_type": "markdown",
   "id": "b426401c",
   "metadata": {},
   "source": [
    "Determine whether there’s a difference in spending habits between the different U.S. regions. (Hint: You can do this by crossing the variable you just created with the spending flag.)\n"
   ]
  },
  {
   "cell_type": "code",
   "execution_count": 20,
   "id": "18583dc4",
   "metadata": {},
   "outputs": [],
   "source": [
    "# using crosstab to check spending per region\n",
    "region_spends = pd.crosstab(ords_prods_cust['region'], ords_prods_cust['spending_flag'], dropna = False)"
   ]
  },
  {
   "cell_type": "code",
   "execution_count": 21,
   "id": "49584edd",
   "metadata": {},
   "outputs": [
    {
     "data": {
      "text/html": [
       "<div>\n",
       "<style scoped>\n",
       "    .dataframe tbody tr th:only-of-type {\n",
       "        vertical-align: middle;\n",
       "    }\n",
       "\n",
       "    .dataframe tbody tr th {\n",
       "        vertical-align: top;\n",
       "    }\n",
       "\n",
       "    .dataframe thead th {\n",
       "        text-align: right;\n",
       "    }\n",
       "</style>\n",
       "<table border=\"1\" class=\"dataframe\">\n",
       "  <thead>\n",
       "    <tr style=\"text-align: right;\">\n",
       "      <th>spending_flag</th>\n",
       "      <th>High spender</th>\n",
       "      <th>Low spender</th>\n",
       "    </tr>\n",
       "    <tr>\n",
       "      <th>region</th>\n",
       "      <th></th>\n",
       "      <th></th>\n",
       "    </tr>\n",
       "  </thead>\n",
       "  <tbody>\n",
       "    <tr>\n",
       "      <th>Midwest</th>\n",
       "      <td>2497034</td>\n",
       "      <td>5100291</td>\n",
       "    </tr>\n",
       "    <tr>\n",
       "      <th>Northeast</th>\n",
       "      <td>1875170</td>\n",
       "      <td>3847566</td>\n",
       "    </tr>\n",
       "    <tr>\n",
       "      <th>South</th>\n",
       "      <td>3549625</td>\n",
       "      <td>7242260</td>\n",
       "    </tr>\n",
       "    <tr>\n",
       "      <th>West</th>\n",
       "      <td>2722093</td>\n",
       "      <td>5570820</td>\n",
       "    </tr>\n",
       "  </tbody>\n",
       "</table>\n",
       "</div>"
      ],
      "text/plain": [
       "spending_flag  High spender  Low spender\n",
       "region                                  \n",
       "Midwest             2497034      5100291\n",
       "Northeast           1875170      3847566\n",
       "South               3549625      7242260\n",
       "West                2722093      5570820"
      ]
     },
     "execution_count": 21,
     "metadata": {},
     "output_type": "execute_result"
    }
   ],
   "source": [
    "region_spends"
   ]
  },
  {
   "cell_type": "code",
   "execution_count": 22,
   "id": "99df587b",
   "metadata": {},
   "outputs": [],
   "source": [
    "# copying for analysis to excel\n",
    "region_spends.to_clipboard()"
   ]
  },
  {
   "cell_type": "markdown",
   "id": "e9f264fd",
   "metadata": {},
   "source": [
    "The high spender to total customer base ratio is almost equal across all regions (33%). The highest amount of customers are in the South region (33.3%)."
   ]
  },
  {
   "cell_type": "markdown",
   "id": "e019a26f",
   "metadata": {},
   "source": [
    "### Low-activity customers"
   ]
  },
  {
   "cell_type": "markdown",
   "id": "8d2ac2eb",
   "metadata": {},
   "source": [
    "The Instacart CFO isn’t interested in customers who don’t generate much revenue for the app. Create an exclusion flag for low-activity customers (customers with less than 5 orders) and exclude them from the data. Make sure you export this sample."
   ]
  },
  {
   "cell_type": "code",
   "execution_count": 23,
   "id": "7a570c08",
   "metadata": {},
   "outputs": [],
   "source": [
    "# creating a new df with low activity customer excluded\n",
    "ords_prods_cust_low_activity_excluded = ords_prods_cust[ords_prods_cust['max_order'] >=5]"
   ]
  },
  {
   "cell_type": "code",
   "execution_count": 24,
   "id": "d14b462c",
   "metadata": {},
   "outputs": [
    {
     "ename": "TimeoutError",
     "evalue": "[Errno 60] Operation timed out: '/Users/daniel/Library/CloudStorage/OneDrive-Persönlich/00 Synology/01 Dokumente/2023 Docs/99 CareerFoundry/04 Python/00 Instacart/02 Data/Prepared Data/ords_prods_cust_low_activity_excluded.pkl'",
     "output_type": "error",
     "traceback": [
      "\u001b[0;31m---------------------------------------------------------------------------\u001b[0m",
      "\u001b[0;31mTimeoutError\u001b[0m                              Traceback (most recent call last)",
      "Cell \u001b[0;32mIn[24], line 1\u001b[0m\n\u001b[0;32m----> 1\u001b[0m \u001b[43mords_prods_cust\u001b[49m\u001b[38;5;241;43m.\u001b[39;49m\u001b[43mto_pickle\u001b[49m\u001b[43m(\u001b[49m\u001b[43mos\u001b[49m\u001b[38;5;241;43m.\u001b[39;49m\u001b[43mpath\u001b[49m\u001b[38;5;241;43m.\u001b[39;49m\u001b[43mjoin\u001b[49m\u001b[43m(\u001b[49m\u001b[43mpath\u001b[49m\u001b[43m,\u001b[49m\u001b[43m \u001b[49m\u001b[38;5;124;43m'\u001b[39;49m\u001b[38;5;124;43m02 Data\u001b[39;49m\u001b[38;5;124;43m'\u001b[39;49m\u001b[43m,\u001b[49m\u001b[43m \u001b[49m\u001b[38;5;124;43m'\u001b[39;49m\u001b[38;5;124;43mPrepared Data\u001b[39;49m\u001b[38;5;124;43m'\u001b[39;49m\u001b[43m,\u001b[49m\u001b[43m \u001b[49m\u001b[38;5;124;43m'\u001b[39;49m\u001b[38;5;124;43mords_prods_cust_low_activity_excluded.pkl\u001b[39;49m\u001b[38;5;124;43m'\u001b[39;49m\u001b[43m)\u001b[49m\u001b[43m)\u001b[49m\n",
      "File \u001b[0;32m~/anaconda3/lib/python3.10/site-packages/pandas/core/generic.py:3064\u001b[0m, in \u001b[0;36mNDFrame.to_pickle\u001b[0;34m(self, path, compression, protocol, storage_options)\u001b[0m\n\u001b[1;32m   3012\u001b[0m \u001b[38;5;124;03m\"\"\"\u001b[39;00m\n\u001b[1;32m   3013\u001b[0m \u001b[38;5;124;03mPickle (serialize) object to file.\u001b[39;00m\n\u001b[1;32m   3014\u001b[0m \n\u001b[0;32m   (...)\u001b[0m\n\u001b[1;32m   3060\u001b[0m \u001b[38;5;124;03m4    4    9\u001b[39;00m\n\u001b[1;32m   3061\u001b[0m \u001b[38;5;124;03m\"\"\"\u001b[39;00m  \u001b[38;5;66;03m# noqa: E501\u001b[39;00m\n\u001b[1;32m   3062\u001b[0m \u001b[38;5;28;01mfrom\u001b[39;00m \u001b[38;5;21;01mpandas\u001b[39;00m\u001b[38;5;21;01m.\u001b[39;00m\u001b[38;5;21;01mio\u001b[39;00m\u001b[38;5;21;01m.\u001b[39;00m\u001b[38;5;21;01mpickle\u001b[39;00m \u001b[38;5;28;01mimport\u001b[39;00m to_pickle\n\u001b[0;32m-> 3064\u001b[0m \u001b[43mto_pickle\u001b[49m\u001b[43m(\u001b[49m\n\u001b[1;32m   3065\u001b[0m \u001b[43m    \u001b[49m\u001b[38;5;28;43mself\u001b[39;49m\u001b[43m,\u001b[49m\n\u001b[1;32m   3066\u001b[0m \u001b[43m    \u001b[49m\u001b[43mpath\u001b[49m\u001b[43m,\u001b[49m\n\u001b[1;32m   3067\u001b[0m \u001b[43m    \u001b[49m\u001b[43mcompression\u001b[49m\u001b[38;5;241;43m=\u001b[39;49m\u001b[43mcompression\u001b[49m\u001b[43m,\u001b[49m\n\u001b[1;32m   3068\u001b[0m \u001b[43m    \u001b[49m\u001b[43mprotocol\u001b[49m\u001b[38;5;241;43m=\u001b[39;49m\u001b[43mprotocol\u001b[49m\u001b[43m,\u001b[49m\n\u001b[1;32m   3069\u001b[0m \u001b[43m    \u001b[49m\u001b[43mstorage_options\u001b[49m\u001b[38;5;241;43m=\u001b[39;49m\u001b[43mstorage_options\u001b[49m\u001b[43m,\u001b[49m\n\u001b[1;32m   3070\u001b[0m \u001b[43m\u001b[49m\u001b[43m)\u001b[49m\n",
      "File \u001b[0;32m~/anaconda3/lib/python3.10/site-packages/pandas/io/pickle.py:97\u001b[0m, in \u001b[0;36mto_pickle\u001b[0;34m(obj, filepath_or_buffer, compression, protocol, storage_options)\u001b[0m\n\u001b[1;32m     94\u001b[0m \u001b[38;5;28;01mif\u001b[39;00m protocol \u001b[38;5;241m<\u001b[39m \u001b[38;5;241m0\u001b[39m:\n\u001b[1;32m     95\u001b[0m     protocol \u001b[38;5;241m=\u001b[39m pickle\u001b[38;5;241m.\u001b[39mHIGHEST_PROTOCOL\n\u001b[0;32m---> 97\u001b[0m \u001b[38;5;28;01mwith\u001b[39;00m \u001b[43mget_handle\u001b[49m\u001b[43m(\u001b[49m\n\u001b[1;32m     98\u001b[0m \u001b[43m    \u001b[49m\u001b[43mfilepath_or_buffer\u001b[49m\u001b[43m,\u001b[49m\n\u001b[1;32m     99\u001b[0m \u001b[43m    \u001b[49m\u001b[38;5;124;43m\"\u001b[39;49m\u001b[38;5;124;43mwb\u001b[39;49m\u001b[38;5;124;43m\"\u001b[39;49m\u001b[43m,\u001b[49m\n\u001b[1;32m    100\u001b[0m \u001b[43m    \u001b[49m\u001b[43mcompression\u001b[49m\u001b[38;5;241;43m=\u001b[39;49m\u001b[43mcompression\u001b[49m\u001b[43m,\u001b[49m\n\u001b[1;32m    101\u001b[0m \u001b[43m    \u001b[49m\u001b[43mis_text\u001b[49m\u001b[38;5;241;43m=\u001b[39;49m\u001b[38;5;28;43;01mFalse\u001b[39;49;00m\u001b[43m,\u001b[49m\n\u001b[1;32m    102\u001b[0m \u001b[43m    \u001b[49m\u001b[43mstorage_options\u001b[49m\u001b[38;5;241;43m=\u001b[39;49m\u001b[43mstorage_options\u001b[49m\u001b[43m,\u001b[49m\n\u001b[1;32m    103\u001b[0m \u001b[43m\u001b[49m\u001b[43m)\u001b[49m \u001b[38;5;28;01mas\u001b[39;00m handles:\n\u001b[1;32m    104\u001b[0m     \u001b[38;5;28;01mif\u001b[39;00m handles\u001b[38;5;241m.\u001b[39mcompression[\u001b[38;5;124m\"\u001b[39m\u001b[38;5;124mmethod\u001b[39m\u001b[38;5;124m\"\u001b[39m] \u001b[38;5;129;01min\u001b[39;00m (\u001b[38;5;124m\"\u001b[39m\u001b[38;5;124mbz2\u001b[39m\u001b[38;5;124m\"\u001b[39m, \u001b[38;5;124m\"\u001b[39m\u001b[38;5;124mxz\u001b[39m\u001b[38;5;124m\"\u001b[39m) \u001b[38;5;129;01mand\u001b[39;00m protocol \u001b[38;5;241m>\u001b[39m\u001b[38;5;241m=\u001b[39m \u001b[38;5;241m5\u001b[39m:\n\u001b[1;32m    105\u001b[0m         \u001b[38;5;66;03m# some weird TypeError GH#39002 with pickle 5: fallback to letting\u001b[39;00m\n\u001b[1;32m    106\u001b[0m         \u001b[38;5;66;03m# pickle create the entire object and then write it to the buffer.\u001b[39;00m\n\u001b[1;32m    107\u001b[0m         \u001b[38;5;66;03m# \"zip\" would also be here if pandas.io.common._BytesZipFile\u001b[39;00m\n\u001b[1;32m    108\u001b[0m         \u001b[38;5;66;03m# wouldn't buffer write calls\u001b[39;00m\n\u001b[1;32m    109\u001b[0m         handles\u001b[38;5;241m.\u001b[39mhandle\u001b[38;5;241m.\u001b[39mwrite(pickle\u001b[38;5;241m.\u001b[39mdumps(obj, protocol\u001b[38;5;241m=\u001b[39mprotocol))\n",
      "File \u001b[0;32m~/anaconda3/lib/python3.10/site-packages/pandas/io/common.py:865\u001b[0m, in \u001b[0;36mget_handle\u001b[0;34m(path_or_buf, mode, encoding, compression, memory_map, is_text, errors, storage_options)\u001b[0m\n\u001b[1;32m    856\u001b[0m         handle \u001b[38;5;241m=\u001b[39m \u001b[38;5;28mopen\u001b[39m(\n\u001b[1;32m    857\u001b[0m             handle,\n\u001b[1;32m    858\u001b[0m             ioargs\u001b[38;5;241m.\u001b[39mmode,\n\u001b[0;32m   (...)\u001b[0m\n\u001b[1;32m    861\u001b[0m             newline\u001b[38;5;241m=\u001b[39m\u001b[38;5;124m\"\u001b[39m\u001b[38;5;124m\"\u001b[39m,\n\u001b[1;32m    862\u001b[0m         )\n\u001b[1;32m    863\u001b[0m     \u001b[38;5;28;01melse\u001b[39;00m:\n\u001b[1;32m    864\u001b[0m         \u001b[38;5;66;03m# Binary mode\u001b[39;00m\n\u001b[0;32m--> 865\u001b[0m         handle \u001b[38;5;241m=\u001b[39m \u001b[38;5;28;43mopen\u001b[39;49m\u001b[43m(\u001b[49m\u001b[43mhandle\u001b[49m\u001b[43m,\u001b[49m\u001b[43m \u001b[49m\u001b[43mioargs\u001b[49m\u001b[38;5;241;43m.\u001b[39;49m\u001b[43mmode\u001b[49m\u001b[43m)\u001b[49m\n\u001b[1;32m    866\u001b[0m     handles\u001b[38;5;241m.\u001b[39mappend(handle)\n\u001b[1;32m    868\u001b[0m \u001b[38;5;66;03m# Convert BytesIO or file objects passed with an encoding\u001b[39;00m\n",
      "\u001b[0;31mTimeoutError\u001b[0m: [Errno 60] Operation timed out: '/Users/daniel/Library/CloudStorage/OneDrive-Persönlich/00 Synology/01 Dokumente/2023 Docs/99 CareerFoundry/04 Python/00 Instacart/02 Data/Prepared Data/ords_prods_cust_low_activity_excluded.pkl'"
     ]
    }
   ],
   "source": [
    "ords_prods_cust.to_pickle(os.path.join(path, '02 Data', 'Prepared Data', 'ords_prods_cust_low_activity_excluded.pkl'))"
   ]
  },
  {
   "cell_type": "code",
   "execution_count": 25,
   "id": "1669ecf0",
   "metadata": {},
   "outputs": [
    {
     "data": {
      "text/html": [
       "<div>\n",
       "<style scoped>\n",
       "    .dataframe tbody tr th:only-of-type {\n",
       "        vertical-align: middle;\n",
       "    }\n",
       "\n",
       "    .dataframe tbody tr th {\n",
       "        vertical-align: top;\n",
       "    }\n",
       "\n",
       "    .dataframe thead th {\n",
       "        text-align: right;\n",
       "    }\n",
       "</style>\n",
       "<table border=\"1\" class=\"dataframe\">\n",
       "  <thead>\n",
       "    <tr style=\"text-align: right;\">\n",
       "      <th></th>\n",
       "      <th>order_id</th>\n",
       "      <th>user_id</th>\n",
       "      <th>order_number</th>\n",
       "      <th>orders_day_of_week</th>\n",
       "      <th>order_hour_of_day</th>\n",
       "      <th>days_since_prior_order</th>\n",
       "      <th>product_id</th>\n",
       "      <th>add_to_cart_order</th>\n",
       "      <th>reordered</th>\n",
       "      <th>product_name</th>\n",
       "      <th>...</th>\n",
       "      <th>order_frequency</th>\n",
       "      <th>frequency_flag</th>\n",
       "      <th>gender</th>\n",
       "      <th>state</th>\n",
       "      <th>age</th>\n",
       "      <th>date_joined</th>\n",
       "      <th>n_dependants</th>\n",
       "      <th>fam_status</th>\n",
       "      <th>income</th>\n",
       "      <th>region</th>\n",
       "    </tr>\n",
       "  </thead>\n",
       "  <tbody>\n",
       "    <tr>\n",
       "      <th>0</th>\n",
       "      <td>2539329.0</td>\n",
       "      <td>1</td>\n",
       "      <td>1.0</td>\n",
       "      <td>2.0</td>\n",
       "      <td>8.0</td>\n",
       "      <td>NaN</td>\n",
       "      <td>196</td>\n",
       "      <td>1.0</td>\n",
       "      <td>0.0</td>\n",
       "      <td>Soda</td>\n",
       "      <td>...</td>\n",
       "      <td>20.5</td>\n",
       "      <td>Non-frequent customer</td>\n",
       "      <td>Female</td>\n",
       "      <td>Alabama</td>\n",
       "      <td>31</td>\n",
       "      <td>2/17/2019</td>\n",
       "      <td>3</td>\n",
       "      <td>married</td>\n",
       "      <td>40423</td>\n",
       "      <td>South</td>\n",
       "    </tr>\n",
       "    <tr>\n",
       "      <th>1</th>\n",
       "      <td>2398795.0</td>\n",
       "      <td>1</td>\n",
       "      <td>2.0</td>\n",
       "      <td>3.0</td>\n",
       "      <td>7.0</td>\n",
       "      <td>15.0</td>\n",
       "      <td>196</td>\n",
       "      <td>1.0</td>\n",
       "      <td>1.0</td>\n",
       "      <td>Soda</td>\n",
       "      <td>...</td>\n",
       "      <td>20.5</td>\n",
       "      <td>Non-frequent customer</td>\n",
       "      <td>Female</td>\n",
       "      <td>Alabama</td>\n",
       "      <td>31</td>\n",
       "      <td>2/17/2019</td>\n",
       "      <td>3</td>\n",
       "      <td>married</td>\n",
       "      <td>40423</td>\n",
       "      <td>South</td>\n",
       "    </tr>\n",
       "    <tr>\n",
       "      <th>2</th>\n",
       "      <td>473747.0</td>\n",
       "      <td>1</td>\n",
       "      <td>3.0</td>\n",
       "      <td>3.0</td>\n",
       "      <td>12.0</td>\n",
       "      <td>21.0</td>\n",
       "      <td>196</td>\n",
       "      <td>1.0</td>\n",
       "      <td>1.0</td>\n",
       "      <td>Soda</td>\n",
       "      <td>...</td>\n",
       "      <td>20.5</td>\n",
       "      <td>Non-frequent customer</td>\n",
       "      <td>Female</td>\n",
       "      <td>Alabama</td>\n",
       "      <td>31</td>\n",
       "      <td>2/17/2019</td>\n",
       "      <td>3</td>\n",
       "      <td>married</td>\n",
       "      <td>40423</td>\n",
       "      <td>South</td>\n",
       "    </tr>\n",
       "    <tr>\n",
       "      <th>3</th>\n",
       "      <td>2254736.0</td>\n",
       "      <td>1</td>\n",
       "      <td>4.0</td>\n",
       "      <td>4.0</td>\n",
       "      <td>7.0</td>\n",
       "      <td>29.0</td>\n",
       "      <td>196</td>\n",
       "      <td>1.0</td>\n",
       "      <td>1.0</td>\n",
       "      <td>Soda</td>\n",
       "      <td>...</td>\n",
       "      <td>20.5</td>\n",
       "      <td>Non-frequent customer</td>\n",
       "      <td>Female</td>\n",
       "      <td>Alabama</td>\n",
       "      <td>31</td>\n",
       "      <td>2/17/2019</td>\n",
       "      <td>3</td>\n",
       "      <td>married</td>\n",
       "      <td>40423</td>\n",
       "      <td>South</td>\n",
       "    </tr>\n",
       "    <tr>\n",
       "      <th>4</th>\n",
       "      <td>431534.0</td>\n",
       "      <td>1</td>\n",
       "      <td>5.0</td>\n",
       "      <td>4.0</td>\n",
       "      <td>15.0</td>\n",
       "      <td>28.0</td>\n",
       "      <td>196</td>\n",
       "      <td>1.0</td>\n",
       "      <td>1.0</td>\n",
       "      <td>Soda</td>\n",
       "      <td>...</td>\n",
       "      <td>20.5</td>\n",
       "      <td>Non-frequent customer</td>\n",
       "      <td>Female</td>\n",
       "      <td>Alabama</td>\n",
       "      <td>31</td>\n",
       "      <td>2/17/2019</td>\n",
       "      <td>3</td>\n",
       "      <td>married</td>\n",
       "      <td>40423</td>\n",
       "      <td>South</td>\n",
       "    </tr>\n",
       "  </tbody>\n",
       "</table>\n",
       "<p>5 rows × 32 columns</p>\n",
       "</div>"
      ],
      "text/plain": [
       "    order_id  user_id  order_number  orders_day_of_week  order_hour_of_day  \\\n",
       "0  2539329.0        1           1.0                 2.0                8.0   \n",
       "1  2398795.0        1           2.0                 3.0                7.0   \n",
       "2   473747.0        1           3.0                 3.0               12.0   \n",
       "3  2254736.0        1           4.0                 4.0                7.0   \n",
       "4   431534.0        1           5.0                 4.0               15.0   \n",
       "\n",
       "   days_since_prior_order  product_id  add_to_cart_order  reordered  \\\n",
       "0                     NaN         196                1.0        0.0   \n",
       "1                    15.0         196                1.0        1.0   \n",
       "2                    21.0         196                1.0        1.0   \n",
       "3                    29.0         196                1.0        1.0   \n",
       "4                    28.0         196                1.0        1.0   \n",
       "\n",
       "  product_name  ...  order_frequency         frequency_flag  gender    state  \\\n",
       "0         Soda  ...             20.5  Non-frequent customer  Female  Alabama   \n",
       "1         Soda  ...             20.5  Non-frequent customer  Female  Alabama   \n",
       "2         Soda  ...             20.5  Non-frequent customer  Female  Alabama   \n",
       "3         Soda  ...             20.5  Non-frequent customer  Female  Alabama   \n",
       "4         Soda  ...             20.5  Non-frequent customer  Female  Alabama   \n",
       "\n",
       "  age date_joined n_dependants fam_status  income region  \n",
       "0  31   2/17/2019            3    married   40423  South  \n",
       "1  31   2/17/2019            3    married   40423  South  \n",
       "2  31   2/17/2019            3    married   40423  South  \n",
       "3  31   2/17/2019            3    married   40423  South  \n",
       "4  31   2/17/2019            3    married   40423  South  \n",
       "\n",
       "[5 rows x 32 columns]"
      ]
     },
     "execution_count": 25,
     "metadata": {},
     "output_type": "execute_result"
    }
   ],
   "source": [
    "ords_prods_cust_low_activity_excluded.head()"
   ]
  },
  {
   "cell_type": "code",
   "execution_count": 26,
   "id": "9b92f5d6",
   "metadata": {},
   "outputs": [
    {
     "data": {
      "text/plain": [
       "(30993489, 32)"
      ]
     },
     "execution_count": 26,
     "metadata": {},
     "output_type": "execute_result"
    }
   ],
   "source": [
    "ords_prods_cust_low_activity_excluded.shape"
   ]
  },
  {
   "cell_type": "code",
   "execution_count": null,
   "id": "f7428b09",
   "metadata": {},
   "outputs": [],
   "source": [
    "ords_prods_cust.shape"
   ]
  },
  {
   "cell_type": "code",
   "execution_count": null,
   "id": "2bbca2c6",
   "metadata": {},
   "outputs": [],
   "source": [
    "ords_prods_cust_low_activity_excluded['max_order'].min()"
   ]
  },
  {
   "cell_type": "markdown",
   "id": "281c5522",
   "metadata": {},
   "source": [
    "### Marketing and business strategy"
   ]
  },
  {
   "cell_type": "markdown",
   "id": "4bb961d7",
   "metadata": {},
   "source": [
    "The marketing and business strategy units at Instacart want to create more-relevant marketing strategies for different products and are, thus, curious about customer profiling in their database. Create a profiling variable based on age, income, certain goods in the “department_id” column, and number of dependents. You might also use the “orders_day_of_the_week” and “order_hour_of_day” columns if you can think of a way they would impact customer profiles. (Hint: As an example, try thinking of what characteristics would lead you to the profile “Single adult” or “Young parent.”)"
   ]
  },
  {
   "cell_type": "markdown",
   "id": "67db625b",
   "metadata": {},
   "source": [
    "Create a profiling variable based on age, income, certain goods in the “department_id” column, and number of dependents. "
   ]
  },
  {
   "cell_type": "code",
   "execution_count": 27,
   "id": "c3fc38ed",
   "metadata": {},
   "outputs": [
    {
     "data": {
      "text/html": [
       "<div>\n",
       "<style scoped>\n",
       "    .dataframe tbody tr th:only-of-type {\n",
       "        vertical-align: middle;\n",
       "    }\n",
       "\n",
       "    .dataframe tbody tr th {\n",
       "        vertical-align: top;\n",
       "    }\n",
       "\n",
       "    .dataframe thead th {\n",
       "        text-align: right;\n",
       "    }\n",
       "</style>\n",
       "<table border=\"1\" class=\"dataframe\">\n",
       "  <thead>\n",
       "    <tr style=\"text-align: right;\">\n",
       "      <th></th>\n",
       "      <th>order_id</th>\n",
       "      <th>user_id</th>\n",
       "      <th>order_number</th>\n",
       "      <th>orders_day_of_week</th>\n",
       "      <th>order_hour_of_day</th>\n",
       "      <th>days_since_prior_order</th>\n",
       "      <th>product_id</th>\n",
       "      <th>add_to_cart_order</th>\n",
       "      <th>reordered</th>\n",
       "      <th>aisle_id</th>\n",
       "      <th>department_id</th>\n",
       "      <th>prices</th>\n",
       "      <th>max_order</th>\n",
       "      <th>avg_price</th>\n",
       "      <th>order_frequency</th>\n",
       "      <th>age</th>\n",
       "      <th>n_dependants</th>\n",
       "      <th>income</th>\n",
       "    </tr>\n",
       "  </thead>\n",
       "  <tbody>\n",
       "    <tr>\n",
       "      <th>count</th>\n",
       "      <td>3.243506e+07</td>\n",
       "      <td>3.243506e+07</td>\n",
       "      <td>3.243506e+07</td>\n",
       "      <td>3.243506e+07</td>\n",
       "      <td>3.243506e+07</td>\n",
       "      <td>3.035696e+07</td>\n",
       "      <td>3.243506e+07</td>\n",
       "      <td>3.243506e+07</td>\n",
       "      <td>3.243506e+07</td>\n",
       "      <td>3.240486e+07</td>\n",
       "      <td>3.240486e+07</td>\n",
       "      <td>3.240486e+07</td>\n",
       "      <td>3.243506e+07</td>\n",
       "      <td>3.243506e+07</td>\n",
       "      <td>3.243506e+07</td>\n",
       "      <td>3.243506e+07</td>\n",
       "      <td>3.243506e+07</td>\n",
       "      <td>3.243506e+07</td>\n",
       "    </tr>\n",
       "    <tr>\n",
       "      <th>mean</th>\n",
       "      <td>1.710748e+06</td>\n",
       "      <td>1.029372e+05</td>\n",
       "      <td>1.714195e+01</td>\n",
       "      <td>2.738815e+00</td>\n",
       "      <td>1.342498e+01</td>\n",
       "      <td>1.110414e+01</td>\n",
       "      <td>2.557635e+04</td>\n",
       "      <td>8.351081e+00</td>\n",
       "      <td>5.896955e-01</td>\n",
       "      <td>7.119612e+01</td>\n",
       "      <td>9.919792e+00</td>\n",
       "      <td>1.198023e+01</td>\n",
       "      <td>3.305231e+01</td>\n",
       "      <td>1.197850e+01</td>\n",
       "      <td>1.039779e+01</td>\n",
       "      <td>4.946512e+01</td>\n",
       "      <td>1.501877e+00</td>\n",
       "      <td>9.943550e+04</td>\n",
       "    </tr>\n",
       "    <tr>\n",
       "      <th>std</th>\n",
       "      <td>9.873006e+05</td>\n",
       "      <td>5.946651e+04</td>\n",
       "      <td>1.753496e+01</td>\n",
       "      <td>2.090051e+00</td>\n",
       "      <td>4.246357e+00</td>\n",
       "      <td>8.778941e+00</td>\n",
       "      <td>1.409657e+04</td>\n",
       "      <td>7.126656e+00</td>\n",
       "      <td>4.918889e-01</td>\n",
       "      <td>3.821139e+01</td>\n",
       "      <td>6.281485e+00</td>\n",
       "      <td>4.956554e+02</td>\n",
       "      <td>2.515463e+01</td>\n",
       "      <td>8.321715e+01</td>\n",
       "      <td>7.131238e+00</td>\n",
       "      <td>1.848555e+01</td>\n",
       "      <td>1.118869e+00</td>\n",
       "      <td>4.305540e+04</td>\n",
       "    </tr>\n",
       "    <tr>\n",
       "      <th>min</th>\n",
       "      <td>2.000000e+00</td>\n",
       "      <td>1.000000e+00</td>\n",
       "      <td>1.000000e+00</td>\n",
       "      <td>0.000000e+00</td>\n",
       "      <td>0.000000e+00</td>\n",
       "      <td>0.000000e+00</td>\n",
       "      <td>1.000000e+00</td>\n",
       "      <td>1.000000e+00</td>\n",
       "      <td>0.000000e+00</td>\n",
       "      <td>1.000000e+00</td>\n",
       "      <td>1.000000e+00</td>\n",
       "      <td>1.000000e+00</td>\n",
       "      <td>3.000000e+00</td>\n",
       "      <td>1.000000e+00</td>\n",
       "      <td>0.000000e+00</td>\n",
       "      <td>1.800000e+01</td>\n",
       "      <td>0.000000e+00</td>\n",
       "      <td>2.590300e+04</td>\n",
       "    </tr>\n",
       "    <tr>\n",
       "      <th>25%</th>\n",
       "      <td>8.559430e+05</td>\n",
       "      <td>5.142000e+04</td>\n",
       "      <td>5.000000e+00</td>\n",
       "      <td>1.000000e+00</td>\n",
       "      <td>1.000000e+01</td>\n",
       "      <td>5.000000e+00</td>\n",
       "      <td>1.353200e+04</td>\n",
       "      <td>3.000000e+00</td>\n",
       "      <td>0.000000e+00</td>\n",
       "      <td>3.100000e+01</td>\n",
       "      <td>4.000000e+00</td>\n",
       "      <td>4.200000e+00</td>\n",
       "      <td>1.300000e+01</td>\n",
       "      <td>7.387179e+00</td>\n",
       "      <td>6.000000e+00</td>\n",
       "      <td>3.300000e+01</td>\n",
       "      <td>1.000000e+00</td>\n",
       "      <td>6.700200e+04</td>\n",
       "    </tr>\n",
       "    <tr>\n",
       "      <th>50%</th>\n",
       "      <td>1.711047e+06</td>\n",
       "      <td>1.026110e+05</td>\n",
       "      <td>1.100000e+01</td>\n",
       "      <td>3.000000e+00</td>\n",
       "      <td>1.300000e+01</td>\n",
       "      <td>8.000000e+00</td>\n",
       "      <td>2.525600e+04</td>\n",
       "      <td>6.000000e+00</td>\n",
       "      <td>1.000000e+00</td>\n",
       "      <td>8.300000e+01</td>\n",
       "      <td>9.000000e+00</td>\n",
       "      <td>7.400000e+00</td>\n",
       "      <td>2.600000e+01</td>\n",
       "      <td>7.824742e+00</td>\n",
       "      <td>8.000000e+00</td>\n",
       "      <td>4.900000e+01</td>\n",
       "      <td>2.000000e+00</td>\n",
       "      <td>9.661200e+04</td>\n",
       "    </tr>\n",
       "    <tr>\n",
       "      <th>75%</th>\n",
       "      <td>2.565514e+06</td>\n",
       "      <td>1.543910e+05</td>\n",
       "      <td>2.400000e+01</td>\n",
       "      <td>5.000000e+00</td>\n",
       "      <td>1.600000e+01</td>\n",
       "      <td>1.500000e+01</td>\n",
       "      <td>3.793500e+04</td>\n",
       "      <td>1.100000e+01</td>\n",
       "      <td>1.000000e+00</td>\n",
       "      <td>1.070000e+02</td>\n",
       "      <td>1.600000e+01</td>\n",
       "      <td>1.130000e+01</td>\n",
       "      <td>4.700000e+01</td>\n",
       "      <td>8.253968e+00</td>\n",
       "      <td>1.300000e+01</td>\n",
       "      <td>6.500000e+01</td>\n",
       "      <td>3.000000e+00</td>\n",
       "      <td>1.279080e+05</td>\n",
       "    </tr>\n",
       "    <tr>\n",
       "      <th>max</th>\n",
       "      <td>3.421083e+06</td>\n",
       "      <td>2.062090e+05</td>\n",
       "      <td>9.900000e+01</td>\n",
       "      <td>6.000000e+00</td>\n",
       "      <td>2.300000e+01</td>\n",
       "      <td>3.000000e+01</td>\n",
       "      <td>4.968800e+04</td>\n",
       "      <td>1.450000e+02</td>\n",
       "      <td>1.000000e+00</td>\n",
       "      <td>1.340000e+02</td>\n",
       "      <td>2.100000e+01</td>\n",
       "      <td>9.999900e+04</td>\n",
       "      <td>9.900000e+01</td>\n",
       "      <td>2.500542e+04</td>\n",
       "      <td>3.000000e+01</td>\n",
       "      <td>8.100000e+01</td>\n",
       "      <td>3.000000e+00</td>\n",
       "      <td>5.939010e+05</td>\n",
       "    </tr>\n",
       "  </tbody>\n",
       "</table>\n",
       "</div>"
      ],
      "text/plain": [
       "           order_id       user_id  order_number  orders_day_of_week  \\\n",
       "count  3.243506e+07  3.243506e+07  3.243506e+07        3.243506e+07   \n",
       "mean   1.710748e+06  1.029372e+05  1.714195e+01        2.738815e+00   \n",
       "std    9.873006e+05  5.946651e+04  1.753496e+01        2.090051e+00   \n",
       "min    2.000000e+00  1.000000e+00  1.000000e+00        0.000000e+00   \n",
       "25%    8.559430e+05  5.142000e+04  5.000000e+00        1.000000e+00   \n",
       "50%    1.711047e+06  1.026110e+05  1.100000e+01        3.000000e+00   \n",
       "75%    2.565514e+06  1.543910e+05  2.400000e+01        5.000000e+00   \n",
       "max    3.421083e+06  2.062090e+05  9.900000e+01        6.000000e+00   \n",
       "\n",
       "       order_hour_of_day  days_since_prior_order    product_id  \\\n",
       "count       3.243506e+07            3.035696e+07  3.243506e+07   \n",
       "mean        1.342498e+01            1.110414e+01  2.557635e+04   \n",
       "std         4.246357e+00            8.778941e+00  1.409657e+04   \n",
       "min         0.000000e+00            0.000000e+00  1.000000e+00   \n",
       "25%         1.000000e+01            5.000000e+00  1.353200e+04   \n",
       "50%         1.300000e+01            8.000000e+00  2.525600e+04   \n",
       "75%         1.600000e+01            1.500000e+01  3.793500e+04   \n",
       "max         2.300000e+01            3.000000e+01  4.968800e+04   \n",
       "\n",
       "       add_to_cart_order     reordered      aisle_id  department_id  \\\n",
       "count       3.243506e+07  3.243506e+07  3.240486e+07   3.240486e+07   \n",
       "mean        8.351081e+00  5.896955e-01  7.119612e+01   9.919792e+00   \n",
       "std         7.126656e+00  4.918889e-01  3.821139e+01   6.281485e+00   \n",
       "min         1.000000e+00  0.000000e+00  1.000000e+00   1.000000e+00   \n",
       "25%         3.000000e+00  0.000000e+00  3.100000e+01   4.000000e+00   \n",
       "50%         6.000000e+00  1.000000e+00  8.300000e+01   9.000000e+00   \n",
       "75%         1.100000e+01  1.000000e+00  1.070000e+02   1.600000e+01   \n",
       "max         1.450000e+02  1.000000e+00  1.340000e+02   2.100000e+01   \n",
       "\n",
       "             prices     max_order     avg_price  order_frequency  \\\n",
       "count  3.240486e+07  3.243506e+07  3.243506e+07     3.243506e+07   \n",
       "mean   1.198023e+01  3.305231e+01  1.197850e+01     1.039779e+01   \n",
       "std    4.956554e+02  2.515463e+01  8.321715e+01     7.131238e+00   \n",
       "min    1.000000e+00  3.000000e+00  1.000000e+00     0.000000e+00   \n",
       "25%    4.200000e+00  1.300000e+01  7.387179e+00     6.000000e+00   \n",
       "50%    7.400000e+00  2.600000e+01  7.824742e+00     8.000000e+00   \n",
       "75%    1.130000e+01  4.700000e+01  8.253968e+00     1.300000e+01   \n",
       "max    9.999900e+04  9.900000e+01  2.500542e+04     3.000000e+01   \n",
       "\n",
       "                age  n_dependants        income  \n",
       "count  3.243506e+07  3.243506e+07  3.243506e+07  \n",
       "mean   4.946512e+01  1.501877e+00  9.943550e+04  \n",
       "std    1.848555e+01  1.118869e+00  4.305540e+04  \n",
       "min    1.800000e+01  0.000000e+00  2.590300e+04  \n",
       "25%    3.300000e+01  1.000000e+00  6.700200e+04  \n",
       "50%    4.900000e+01  2.000000e+00  9.661200e+04  \n",
       "75%    6.500000e+01  3.000000e+00  1.279080e+05  \n",
       "max    8.100000e+01  3.000000e+00  5.939010e+05  "
      ]
     },
     "execution_count": 27,
     "metadata": {},
     "output_type": "execute_result"
    }
   ],
   "source": [
    "ords_prods_cust.describe()"
   ]
  },
  {
   "cell_type": "code",
   "execution_count": 28,
   "id": "f15694cc",
   "metadata": {},
   "outputs": [
    {
     "data": {
      "text/plain": [
       "4.0     9479291\n",
       "16.0    5398747\n",
       "19.0    2887550\n",
       "7.0     2688123\n",
       "1.0     2234743\n",
       "13.0    1875369\n",
       "3.0     1172428\n",
       "15.0    1068058\n",
       "20.0    1051249\n",
       "9.0      866627\n",
       "17.0     738666\n",
       "12.0     708927\n",
       "14.0     703033\n",
       "11.0     447572\n",
       "18.0     423802\n",
       "6.0      269253\n",
       "5.0      153696\n",
       "8.0       97716\n",
       "21.0      69145\n",
       "2.0       36291\n",
       "10.0      34573\n",
       "Name: department_id, dtype: int64"
      ]
     },
     "execution_count": 28,
     "metadata": {},
     "output_type": "execute_result"
    }
   ],
   "source": [
    "ords_prods_cust['department_id'].value_counts()"
   ]
  },
  {
   "cell_type": "markdown",
   "id": "4bea73ba",
   "metadata": {},
   "source": [
    "Age: \n",
    "   - Young (<=34)\n",
    "   - Midage (35-64)\n",
    "   - Senior (>=65)\n",
    "\n",
    "Income:\n",
    "   - Low (<50000)\n",
    "   - Mid (>=50000 AND <120000)\n",
    "   - High (>=120000)\n",
    "   \n",
    "Goods:\n",
    "-    Drinks_alcohol (have bought from department 5 'alcohol')\n",
    "-    No_alcohol (have not bought from department 5) \n",
    "\n",
    "Number of dependants:\n",
    "-    Parent (n_dependants >=1) \n",
    " -   No_kids (n_dependants =0) "
   ]
  },
  {
   "cell_type": "markdown",
   "id": "98bbdda3",
   "metadata": {},
   "source": [
    "#### Age flag"
   ]
  },
  {
   "cell_type": "code",
   "execution_count": 29,
   "id": "ded7a55a",
   "metadata": {},
   "outputs": [],
   "source": [
    "### creating flag for age\n",
    "flag_age = []\n",
    "for row in ords_prods_cust['age'].tolist():\n",
    "    if row <= 34:\n",
    "        flag_age.append('Young')\n",
    "    elif row > 34 and row < 65:\n",
    "        flag_age.append('Midage')\n",
    "    elif row >= 65:\n",
    "        flag_age.append('Senior')\n",
    "    else:\n",
    "        print('No age match', row)"
   ]
  },
  {
   "cell_type": "code",
   "execution_count": 30,
   "id": "37f6ce25",
   "metadata": {},
   "outputs": [],
   "source": [
    "ords_prods_cust['age_category'] = flag_age"
   ]
  },
  {
   "cell_type": "code",
   "execution_count": 31,
   "id": "1f40f47a",
   "metadata": {},
   "outputs": [
    {
     "data": {
      "text/plain": [
       "Midage    15216519\n",
       "Young      8635731\n",
       "Senior     8582809\n",
       "Name: age_category, dtype: int64"
      ]
     },
     "execution_count": 31,
     "metadata": {},
     "output_type": "execute_result"
    }
   ],
   "source": [
    "ords_prods_cust['age_category'].value_counts()"
   ]
  },
  {
   "cell_type": "markdown",
   "id": "0081f1b6",
   "metadata": {},
   "source": [
    "#### Income flag"
   ]
  },
  {
   "cell_type": "code",
   "execution_count": 32,
   "id": "97792a09",
   "metadata": {},
   "outputs": [],
   "source": [
    "# creating flag for income\n",
    "\n",
    "flag_income = []\n",
    "for row in ords_prods_cust['income'].tolist():\n",
    "    if row < 50000:\n",
    "        flag_income.append('Low')\n",
    "    elif row >= 50000 and row < 120000:\n",
    "        flag_income.append('Mid')\n",
    "    elif row >= 120000:\n",
    "        flag_income.append('High')\n",
    "    else:\n",
    "        print('No income match', row)"
   ]
  },
  {
   "cell_type": "code",
   "execution_count": 33,
   "id": "9bf40afd",
   "metadata": {},
   "outputs": [],
   "source": [
    "ords_prods_cust['income_category'] = flag_income"
   ]
  },
  {
   "cell_type": "code",
   "execution_count": 34,
   "id": "80e388aa",
   "metadata": {},
   "outputs": [
    {
     "data": {
      "text/plain": [
       "Mid     19257305\n",
       "High     9579809\n",
       "Low      3597945\n",
       "Name: income_category, dtype: int64"
      ]
     },
     "execution_count": 34,
     "metadata": {},
     "output_type": "execute_result"
    }
   ],
   "source": [
    "ords_prods_cust['income_category'].value_counts()"
   ]
  },
  {
   "cell_type": "markdown",
   "id": "b389dda0",
   "metadata": {},
   "source": [
    "#### Alcohol flag"
   ]
  },
  {
   "cell_type": "code",
   "execution_count": 35,
   "id": "dda538c8",
   "metadata": {},
   "outputs": [],
   "source": [
    "#crosstabbing department_id and user_id\n",
    "crosstab_alcohol = pd.crosstab(ords_prods_cust['department_id'], ords_prods_cust['user_id'], dropna = False)"
   ]
  },
  {
   "cell_type": "code",
   "execution_count": 36,
   "id": "ab594f86",
   "metadata": {},
   "outputs": [
    {
     "data": {
      "text/html": [
       "<div>\n",
       "<style scoped>\n",
       "    .dataframe tbody tr th:only-of-type {\n",
       "        vertical-align: middle;\n",
       "    }\n",
       "\n",
       "    .dataframe tbody tr th {\n",
       "        vertical-align: top;\n",
       "    }\n",
       "\n",
       "    .dataframe thead th {\n",
       "        text-align: right;\n",
       "    }\n",
       "</style>\n",
       "<table border=\"1\" class=\"dataframe\">\n",
       "  <thead>\n",
       "    <tr style=\"text-align: right;\">\n",
       "      <th>user_id</th>\n",
       "      <th>1</th>\n",
       "      <th>2</th>\n",
       "      <th>3</th>\n",
       "      <th>4</th>\n",
       "      <th>5</th>\n",
       "      <th>6</th>\n",
       "      <th>7</th>\n",
       "      <th>8</th>\n",
       "      <th>9</th>\n",
       "      <th>10</th>\n",
       "      <th>...</th>\n",
       "      <th>206200</th>\n",
       "      <th>206201</th>\n",
       "      <th>206202</th>\n",
       "      <th>206203</th>\n",
       "      <th>206204</th>\n",
       "      <th>206205</th>\n",
       "      <th>206206</th>\n",
       "      <th>206207</th>\n",
       "      <th>206208</th>\n",
       "      <th>206209</th>\n",
       "    </tr>\n",
       "    <tr>\n",
       "      <th>department_id</th>\n",
       "      <th></th>\n",
       "      <th></th>\n",
       "      <th></th>\n",
       "      <th></th>\n",
       "      <th></th>\n",
       "      <th></th>\n",
       "      <th></th>\n",
       "      <th></th>\n",
       "      <th></th>\n",
       "      <th></th>\n",
       "      <th></th>\n",
       "      <th></th>\n",
       "      <th></th>\n",
       "      <th></th>\n",
       "      <th></th>\n",
       "      <th></th>\n",
       "      <th></th>\n",
       "      <th></th>\n",
       "      <th></th>\n",
       "      <th></th>\n",
       "      <th></th>\n",
       "    </tr>\n",
       "  </thead>\n",
       "  <tbody>\n",
       "    <tr>\n",
       "      <th>1.0</th>\n",
       "      <td>0</td>\n",
       "      <td>17</td>\n",
       "      <td>6</td>\n",
       "      <td>3</td>\n",
       "      <td>2</td>\n",
       "      <td>0</td>\n",
       "      <td>4</td>\n",
       "      <td>0</td>\n",
       "      <td>1</td>\n",
       "      <td>1</td>\n",
       "      <td>...</td>\n",
       "      <td>21</td>\n",
       "      <td>18</td>\n",
       "      <td>25</td>\n",
       "      <td>14</td>\n",
       "      <td>10</td>\n",
       "      <td>2</td>\n",
       "      <td>76</td>\n",
       "      <td>21</td>\n",
       "      <td>26</td>\n",
       "      <td>2</td>\n",
       "    </tr>\n",
       "    <tr>\n",
       "      <th>2.0</th>\n",
       "      <td>0</td>\n",
       "      <td>0</td>\n",
       "      <td>0</td>\n",
       "      <td>0</td>\n",
       "      <td>0</td>\n",
       "      <td>0</td>\n",
       "      <td>0</td>\n",
       "      <td>0</td>\n",
       "      <td>0</td>\n",
       "      <td>0</td>\n",
       "      <td>...</td>\n",
       "      <td>0</td>\n",
       "      <td>0</td>\n",
       "      <td>0</td>\n",
       "      <td>0</td>\n",
       "      <td>0</td>\n",
       "      <td>0</td>\n",
       "      <td>1</td>\n",
       "      <td>0</td>\n",
       "      <td>0</td>\n",
       "      <td>0</td>\n",
       "    </tr>\n",
       "    <tr>\n",
       "      <th>3.0</th>\n",
       "      <td>0</td>\n",
       "      <td>2</td>\n",
       "      <td>0</td>\n",
       "      <td>2</td>\n",
       "      <td>0</td>\n",
       "      <td>0</td>\n",
       "      <td>5</td>\n",
       "      <td>0</td>\n",
       "      <td>4</td>\n",
       "      <td>0</td>\n",
       "      <td>...</td>\n",
       "      <td>1</td>\n",
       "      <td>38</td>\n",
       "      <td>17</td>\n",
       "      <td>3</td>\n",
       "      <td>4</td>\n",
       "      <td>2</td>\n",
       "      <td>2</td>\n",
       "      <td>3</td>\n",
       "      <td>62</td>\n",
       "      <td>9</td>\n",
       "    </tr>\n",
       "    <tr>\n",
       "      <th>4.0</th>\n",
       "      <td>5</td>\n",
       "      <td>36</td>\n",
       "      <td>38</td>\n",
       "      <td>2</td>\n",
       "      <td>19</td>\n",
       "      <td>6</td>\n",
       "      <td>57</td>\n",
       "      <td>27</td>\n",
       "      <td>7</td>\n",
       "      <td>72</td>\n",
       "      <td>...</td>\n",
       "      <td>135</td>\n",
       "      <td>33</td>\n",
       "      <td>48</td>\n",
       "      <td>36</td>\n",
       "      <td>13</td>\n",
       "      <td>7</td>\n",
       "      <td>34</td>\n",
       "      <td>50</td>\n",
       "      <td>197</td>\n",
       "      <td>19</td>\n",
       "    </tr>\n",
       "    <tr>\n",
       "      <th>5.0</th>\n",
       "      <td>0</td>\n",
       "      <td>0</td>\n",
       "      <td>0</td>\n",
       "      <td>2</td>\n",
       "      <td>0</td>\n",
       "      <td>0</td>\n",
       "      <td>0</td>\n",
       "      <td>0</td>\n",
       "      <td>0</td>\n",
       "      <td>0</td>\n",
       "      <td>...</td>\n",
       "      <td>0</td>\n",
       "      <td>0</td>\n",
       "      <td>0</td>\n",
       "      <td>0</td>\n",
       "      <td>0</td>\n",
       "      <td>0</td>\n",
       "      <td>0</td>\n",
       "      <td>0</td>\n",
       "      <td>0</td>\n",
       "      <td>0</td>\n",
       "    </tr>\n",
       "  </tbody>\n",
       "</table>\n",
       "<p>5 rows × 206209 columns</p>\n",
       "</div>"
      ],
      "text/plain": [
       "user_id        1       2       3       4       5       6       7       8       \\\n",
       "department_id                                                                   \n",
       "1.0                 0      17       6       3       2       0       4       0   \n",
       "2.0                 0       0       0       0       0       0       0       0   \n",
       "3.0                 0       2       0       2       0       0       5       0   \n",
       "4.0                 5      36      38       2      19       6      57      27   \n",
       "5.0                 0       0       0       2       0       0       0       0   \n",
       "\n",
       "user_id        9       10      ...  206200  206201  206202  206203  206204  \\\n",
       "department_id                  ...                                           \n",
       "1.0                 1       1  ...      21      18      25      14      10   \n",
       "2.0                 0       0  ...       0       0       0       0       0   \n",
       "3.0                 4       0  ...       1      38      17       3       4   \n",
       "4.0                 7      72  ...     135      33      48      36      13   \n",
       "5.0                 0       0  ...       0       0       0       0       0   \n",
       "\n",
       "user_id        206205  206206  206207  206208  206209  \n",
       "department_id                                          \n",
       "1.0                 2      76      21      26       2  \n",
       "2.0                 0       1       0       0       0  \n",
       "3.0                 2       2       3      62       9  \n",
       "4.0                 7      34      50     197      19  \n",
       "5.0                 0       0       0       0       0  \n",
       "\n",
       "[5 rows x 206209 columns]"
      ]
     },
     "execution_count": 36,
     "metadata": {},
     "output_type": "execute_result"
    }
   ],
   "source": [
    "crosstab_alcohol.head()"
   ]
  },
  {
   "cell_type": "code",
   "execution_count": 37,
   "id": "dd2886e7",
   "metadata": {},
   "outputs": [
    {
     "data": {
      "text/plain": [
       "(21, 206209)"
      ]
     },
     "execution_count": 37,
     "metadata": {},
     "output_type": "execute_result"
    }
   ],
   "source": [
    "crosstab_alcohol.shape"
   ]
  },
  {
   "cell_type": "code",
   "execution_count": 38,
   "id": "7c5c1862",
   "metadata": {},
   "outputs": [],
   "source": [
    "# alcohol flag\n",
    "alcohol_dict = dict()\n",
    "for user in crosstab_alcohol:\n",
    "    newlist = crosstab_alcohol[user].tolist()\n",
    "    if newlist[5] == 0 :\n",
    "        alcohol_dict[user] = 'No_alcohol'\n",
    "    else:\n",
    "        alcohol_dict[user] = 'Drinks_alcohol'"
   ]
  },
  {
   "cell_type": "code",
   "execution_count": 39,
   "id": "665f5a50",
   "metadata": {},
   "outputs": [],
   "source": [
    "alcohol_list = []\n",
    "for user in ords_prods_cust['user_id']:\n",
    "    alcohol_list.append(alcohol_dict[user])"
   ]
  },
  {
   "cell_type": "code",
   "execution_count": 40,
   "id": "30c9b0b9",
   "metadata": {},
   "outputs": [],
   "source": [
    "# creating alcohol category\n",
    "ords_prods_cust['alcohol_category'] = alcohol_list"
   ]
  },
  {
   "cell_type": "code",
   "execution_count": 41,
   "id": "06858968",
   "metadata": {},
   "outputs": [
    {
     "data": {
      "text/plain": [
       "Drinks_alcohol    19556017\n",
       "No_alcohol        12879042\n",
       "Name: alcohol_category, dtype: int64"
      ]
     },
     "execution_count": 41,
     "metadata": {},
     "output_type": "execute_result"
    }
   ],
   "source": [
    "ords_prods_cust['alcohol_category'].value_counts()"
   ]
  },
  {
   "cell_type": "markdown",
   "id": "c1cad58f",
   "metadata": {},
   "source": [
    "#### Parent Flag"
   ]
  },
  {
   "cell_type": "code",
   "execution_count": 42,
   "id": "96ce8781",
   "metadata": {},
   "outputs": [],
   "source": [
    "# flag parent vs no kids\n",
    "flag_child = []\n",
    "for row in ords_prods_cust['n_dependants'].tolist():\n",
    "    if row == 0:\n",
    "        flag_child.append('No children')\n",
    "    elif row > 0:\n",
    "        flag_child.append('Parent')\n",
    "    else:\n",
    "        print('No match', row)"
   ]
  },
  {
   "cell_type": "code",
   "execution_count": 43,
   "id": "df293ba1",
   "metadata": {},
   "outputs": [],
   "source": [
    "ords_prods_cust['parent_category'] = flag_child"
   ]
  },
  {
   "cell_type": "code",
   "execution_count": 44,
   "id": "64b79783",
   "metadata": {},
   "outputs": [
    {
     "data": {
      "text/plain": [
       "Parent         24329714\n",
       "No children     8105345\n",
       "Name: parent_category, dtype: int64"
      ]
     },
     "execution_count": 44,
     "metadata": {},
     "output_type": "execute_result"
    }
   ],
   "source": [
    "ords_prods_cust['parent_category'].value_counts()"
   ]
  },
  {
   "cell_type": "markdown",
   "id": "52ef28d6",
   "metadata": {},
   "source": [
    "### Visualizing distribution\n",
    "Create an appropriate visualization to show the distribution of profiles."
   ]
  },
  {
   "cell_type": "code",
   "execution_count": 45,
   "id": "c78c606b",
   "metadata": {},
   "outputs": [
    {
     "data": {
      "text/plain": [
       "Index(['order_id', 'user_id', 'order_number', 'orders_day_of_week',\n",
       "       'order_hour_of_day', 'days_since_prior_order', 'product_id',\n",
       "       'add_to_cart_order', 'reordered', 'product_name', 'aisle_id',\n",
       "       'department_id', 'prices', '_merge', 'price_range_loc', 'busiest_day',\n",
       "       'Busiest_days', 'busiest_hours', 'max_order', 'loyalty_flag',\n",
       "       'spending_flag', 'avg_price', 'order_frequency', 'frequency_flag',\n",
       "       'gender', 'state', 'age', 'date_joined', 'n_dependants', 'fam_status',\n",
       "       'income', 'region', 'age_category', 'income_category',\n",
       "       'alcohol_category', 'parent_category'],\n",
       "      dtype='object')"
      ]
     },
     "execution_count": 45,
     "metadata": {},
     "output_type": "execute_result"
    }
   ],
   "source": [
    "ords_prods_cust.columns"
   ]
  },
  {
   "cell_type": "code",
   "execution_count": 46,
   "id": "32fcde02",
   "metadata": {},
   "outputs": [],
   "source": [
    "# creating a user category dataframe\n",
    "ords_prods_cust_profile = ords_prods_cust[['user_id', 'age_category', 'income_category', 'alcohol_category', 'parent_category', 'region', 'loyalty_flag', 'spending_flag', 'frequency_flag', 'fam_status']]"
   ]
  },
  {
   "cell_type": "code",
   "execution_count": 47,
   "id": "52eba06f",
   "metadata": {},
   "outputs": [],
   "source": [
    "ords_prods_cust_profile_grouped = ords_prods_cust_profile.groupby('user_id').first()"
   ]
  },
  {
   "cell_type": "code",
   "execution_count": 48,
   "id": "9b08c7f5",
   "metadata": {},
   "outputs": [
    {
     "data": {
      "text/plain": [
       "Midage    96640\n",
       "Young     54840\n",
       "Senior    54729\n",
       "Name: age_category, dtype: int64"
      ]
     },
     "execution_count": 48,
     "metadata": {},
     "output_type": "execute_result"
    }
   ],
   "source": [
    "# creating a pie chart of age distribution\n",
    "ords_prods_cust_profile_grouped['age_category'].value_counts()"
   ]
  },
  {
   "cell_type": "markdown",
   "id": "6f79688d",
   "metadata": {},
   "source": [
    "#### age pie chart"
   ]
  },
  {
   "cell_type": "code",
   "execution_count": 49,
   "id": "6fc72b5d",
   "metadata": {},
   "outputs": [
    {
     "data": {
      "image/png": "[encoded data removed]",
      "text/plain": [
       "<Figure size 640x480 with 1 Axes>"
      ]
     },
     "metadata": {},
     "output_type": "display_data"
    }
   ],
   "source": [
    "# creatomg pie chart and saving it \n",
    "plt.pie(ords_prods_cust_profile_grouped['age_category'].value_counts(), labels = ords_prods_cust_profile_grouped['age_category'].unique(), autopct='%1.1f%%') \n",
    "plt.savefig(os.path.join(path, '04 Analysis', 'Visualizations', 'age_category_pie.png' ))"
   ]
  },
  {
   "cell_type": "markdown",
   "id": "b2dac5ca",
   "metadata": {},
   "source": [
    "#### income pie chart"
   ]
  },
  {
   "cell_type": "code",
   "execution_count": 54,
   "id": "3855b412",
   "metadata": {},
   "outputs": [
    {
     "data": {
      "image/png": "[encoded data removed]",
      "text/plain": [
       "<Figure size 640x480 with 1 Axes>"
      ]
     },
     "metadata": {},
     "output_type": "display_data"
    }
   ],
   "source": [
    "# income\n",
    "# creatomg pie chart and saving it \n",
    "plt.pie(ords_prods_cust_profile_grouped['income_category'].value_counts(), labels = ords_prods_cust_profile_grouped['income_category'].unique(), autopct='%1.1f%%') \n",
    "plt.savefig(os.path.join(path, '04 Analysis', 'Visualizations', 'income_category_pie.png' ))"
   ]
  },
  {
   "cell_type": "markdown",
   "id": "2a31f5fe",
   "metadata": {},
   "source": [
    "#### alcohol pie chart"
   ]
  },
  {
   "cell_type": "code",
   "execution_count": 52,
   "id": "0c3bf21d",
   "metadata": {},
   "outputs": [
    {
     "data": {
      "image/png": "[encoded data removed]",
      "text/plain": [
       "<Figure size 640x480 with 1 Axes>"
      ]
     },
     "metadata": {},
     "output_type": "display_data"
    }
   ],
   "source": [
    "# creating pie chart and saving it \n",
    "plt.pie(ords_prods_cust_profile_grouped['alcohol_category'].value_counts(), labels = ords_prods_cust_profile_grouped['alcohol_category'].unique(), autopct='%1.1f%%') \n",
    "plt.savefig(os.path.join(path, '04 Analysis', 'Visualizations', 'alcohol_category_pie.png' ))"
   ]
  },
  {
   "cell_type": "markdown",
   "id": "d49b965f",
   "metadata": {},
   "source": [
    "#### parent flag"
   ]
  },
  {
   "cell_type": "code",
   "execution_count": 53,
   "id": "e5743e9e",
   "metadata": {},
   "outputs": [
    {
     "data": {
      "image/png": "[encoded data removed]",
      "text/plain": [
       "<Figure size 640x480 with 1 Axes>"
      ]
     },
     "metadata": {},
     "output_type": "display_data"
    }
   ],
   "source": [
    "# creating pie chart and saving it \n",
    "plt.pie(ords_prods_cust_profile_grouped['parent_category'].value_counts(), labels = ords_prods_cust_profile_grouped['parent_category'].unique(), autopct='%1.1f%%') \n",
    "plt.savefig(os.path.join(path, '04 Analysis', 'Visualizations', 'parent_category_pie.png' ))"
   ]
  },
  {
   "cell_type": "markdown",
   "id": "5009ec86",
   "metadata": {},
   "source": [
    "## Max / Mean / Min for usage freq and expenditure"
   ]
  },
  {
   "cell_type": "markdown",
   "id": "5eb66b56",
   "metadata": {},
   "source": [
    "Aggregate the max, mean, and min variables on a customer-profile level for usage frequency and expenditure."
   ]
  },
  {
   "cell_type": "markdown",
   "id": "f2c4c564",
   "metadata": {},
   "source": [
    "### Age category"
   ]
  },
  {
   "cell_type": "code",
   "execution_count": 55,
   "id": "1fb06c68",
   "metadata": {},
   "outputs": [
    {
     "data": {
      "text/html": [
       "<div>\n",
       "<style scoped>\n",
       "    .dataframe tbody tr th:only-of-type {\n",
       "        vertical-align: middle;\n",
       "    }\n",
       "\n",
       "    .dataframe tbody tr th {\n",
       "        vertical-align: top;\n",
       "    }\n",
       "\n",
       "    .dataframe thead tr th {\n",
       "        text-align: left;\n",
       "    }\n",
       "\n",
       "    .dataframe thead tr:last-of-type th {\n",
       "        text-align: right;\n",
       "    }\n",
       "</style>\n",
       "<table border=\"1\" class=\"dataframe\">\n",
       "  <thead>\n",
       "    <tr>\n",
       "      <th></th>\n",
       "      <th colspan=\"3\" halign=\"left\">days_since_prior_order</th>\n",
       "      <th colspan=\"3\" halign=\"left\">prices</th>\n",
       "    </tr>\n",
       "    <tr>\n",
       "      <th></th>\n",
       "      <th>mean</th>\n",
       "      <th>min</th>\n",
       "      <th>max</th>\n",
       "      <th>mean</th>\n",
       "      <th>min</th>\n",
       "      <th>max</th>\n",
       "    </tr>\n",
       "    <tr>\n",
       "      <th>age_category</th>\n",
       "      <th></th>\n",
       "      <th></th>\n",
       "      <th></th>\n",
       "      <th></th>\n",
       "      <th></th>\n",
       "      <th></th>\n",
       "    </tr>\n",
       "  </thead>\n",
       "  <tbody>\n",
       "    <tr>\n",
       "      <th>Midage</th>\n",
       "      <td>11.109019</td>\n",
       "      <td>0.0</td>\n",
       "      <td>30.0</td>\n",
       "      <td>11.989499</td>\n",
       "      <td>1.0</td>\n",
       "      <td>99999.0</td>\n",
       "    </tr>\n",
       "    <tr>\n",
       "      <th>Senior</th>\n",
       "      <td>11.078983</td>\n",
       "      <td>0.0</td>\n",
       "      <td>30.0</td>\n",
       "      <td>11.768850</td>\n",
       "      <td>1.0</td>\n",
       "      <td>99999.0</td>\n",
       "    </tr>\n",
       "    <tr>\n",
       "      <th>Young</th>\n",
       "      <td>11.120526</td>\n",
       "      <td>0.0</td>\n",
       "      <td>30.0</td>\n",
       "      <td>12.173973</td>\n",
       "      <td>1.0</td>\n",
       "      <td>99999.0</td>\n",
       "    </tr>\n",
       "  </tbody>\n",
       "</table>\n",
       "</div>"
      ],
      "text/plain": [
       "             days_since_prior_order                prices              \n",
       "                               mean  min   max       mean  min      max\n",
       "age_category                                                           \n",
       "Midage                    11.109019  0.0  30.0  11.989499  1.0  99999.0\n",
       "Senior                    11.078983  0.0  30.0  11.768850  1.0  99999.0\n",
       "Young                     11.120526  0.0  30.0  12.173973  1.0  99999.0"
      ]
     },
     "execution_count": 55,
     "metadata": {},
     "output_type": "execute_result"
    }
   ],
   "source": [
    "ords_prods_cust.groupby('age_category').agg({'days_since_prior_order': ['mean', 'min', 'max'], 'prices': ['mean', 'min', 'max']})"
   ]
  },
  {
   "cell_type": "markdown",
   "id": "b298a800",
   "metadata": {},
   "source": [
    "### Income category"
   ]
  },
  {
   "cell_type": "code",
   "execution_count": 56,
   "id": "5ba457c9",
   "metadata": {},
   "outputs": [
    {
     "data": {
      "text/html": [
       "<div>\n",
       "<style scoped>\n",
       "    .dataframe tbody tr th:only-of-type {\n",
       "        vertical-align: middle;\n",
       "    }\n",
       "\n",
       "    .dataframe tbody tr th {\n",
       "        vertical-align: top;\n",
       "    }\n",
       "\n",
       "    .dataframe thead tr th {\n",
       "        text-align: left;\n",
       "    }\n",
       "\n",
       "    .dataframe thead tr:last-of-type th {\n",
       "        text-align: right;\n",
       "    }\n",
       "</style>\n",
       "<table border=\"1\" class=\"dataframe\">\n",
       "  <thead>\n",
       "    <tr>\n",
       "      <th></th>\n",
       "      <th colspan=\"3\" halign=\"left\">days_since_prior_order</th>\n",
       "      <th colspan=\"3\" halign=\"left\">prices</th>\n",
       "    </tr>\n",
       "    <tr>\n",
       "      <th></th>\n",
       "      <th>mean</th>\n",
       "      <th>min</th>\n",
       "      <th>max</th>\n",
       "      <th>mean</th>\n",
       "      <th>min</th>\n",
       "      <th>max</th>\n",
       "    </tr>\n",
       "    <tr>\n",
       "      <th>income_category</th>\n",
       "      <th></th>\n",
       "      <th></th>\n",
       "      <th></th>\n",
       "      <th></th>\n",
       "      <th></th>\n",
       "      <th></th>\n",
       "    </tr>\n",
       "  </thead>\n",
       "  <tbody>\n",
       "    <tr>\n",
       "      <th>High</th>\n",
       "      <td>11.029419</td>\n",
       "      <td>0.0</td>\n",
       "      <td>30.0</td>\n",
       "      <td>20.186546</td>\n",
       "      <td>1.0</td>\n",
       "      <td>99999.0</td>\n",
       "    </tr>\n",
       "    <tr>\n",
       "      <th>Low</th>\n",
       "      <td>11.587019</td>\n",
       "      <td>0.0</td>\n",
       "      <td>30.0</td>\n",
       "      <td>6.696985</td>\n",
       "      <td>1.0</td>\n",
       "      <td>25.0</td>\n",
       "    </tr>\n",
       "    <tr>\n",
       "      <th>Mid</th>\n",
       "      <td>11.052050</td>\n",
       "      <td>0.0</td>\n",
       "      <td>30.0</td>\n",
       "      <td>8.884635</td>\n",
       "      <td>1.0</td>\n",
       "      <td>99999.0</td>\n",
       "    </tr>\n",
       "  </tbody>\n",
       "</table>\n",
       "</div>"
      ],
      "text/plain": [
       "                days_since_prior_order                prices              \n",
       "                                  mean  min   max       mean  min      max\n",
       "income_category                                                           \n",
       "High                         11.029419  0.0  30.0  20.186546  1.0  99999.0\n",
       "Low                          11.587019  0.0  30.0   6.696985  1.0     25.0\n",
       "Mid                          11.052050  0.0  30.0   8.884635  1.0  99999.0"
      ]
     },
     "execution_count": 56,
     "metadata": {},
     "output_type": "execute_result"
    }
   ],
   "source": [
    "ords_prods_cust.groupby('income_category').agg({'days_since_prior_order': ['mean', 'min', 'max'], 'prices': ['mean', 'min', 'max']})"
   ]
  },
  {
   "cell_type": "markdown",
   "id": "c846536a",
   "metadata": {},
   "source": [
    "### Alcohol category\n"
   ]
  },
  {
   "cell_type": "code",
   "execution_count": 57,
   "id": "5526214d",
   "metadata": {},
   "outputs": [
    {
     "data": {
      "text/html": [
       "<div>\n",
       "<style scoped>\n",
       "    .dataframe tbody tr th:only-of-type {\n",
       "        vertical-align: middle;\n",
       "    }\n",
       "\n",
       "    .dataframe tbody tr th {\n",
       "        vertical-align: top;\n",
       "    }\n",
       "\n",
       "    .dataframe thead tr th {\n",
       "        text-align: left;\n",
       "    }\n",
       "\n",
       "    .dataframe thead tr:last-of-type th {\n",
       "        text-align: right;\n",
       "    }\n",
       "</style>\n",
       "<table border=\"1\" class=\"dataframe\">\n",
       "  <thead>\n",
       "    <tr>\n",
       "      <th></th>\n",
       "      <th colspan=\"3\" halign=\"left\">days_since_prior_order</th>\n",
       "      <th colspan=\"3\" halign=\"left\">prices</th>\n",
       "    </tr>\n",
       "    <tr>\n",
       "      <th></th>\n",
       "      <th>mean</th>\n",
       "      <th>min</th>\n",
       "      <th>max</th>\n",
       "      <th>mean</th>\n",
       "      <th>min</th>\n",
       "      <th>max</th>\n",
       "    </tr>\n",
       "    <tr>\n",
       "      <th>alcohol_category</th>\n",
       "      <th></th>\n",
       "      <th></th>\n",
       "      <th></th>\n",
       "      <th></th>\n",
       "      <th></th>\n",
       "      <th></th>\n",
       "    </tr>\n",
       "  </thead>\n",
       "  <tbody>\n",
       "    <tr>\n",
       "      <th>Drinks_alcohol</th>\n",
       "      <td>10.137894</td>\n",
       "      <td>0.0</td>\n",
       "      <td>30.0</td>\n",
       "      <td>11.560303</td>\n",
       "      <td>1.0</td>\n",
       "      <td>99999.0</td>\n",
       "    </tr>\n",
       "    <tr>\n",
       "      <th>No_alcohol</th>\n",
       "      <td>12.630971</td>\n",
       "      <td>0.0</td>\n",
       "      <td>30.0</td>\n",
       "      <td>12.618018</td>\n",
       "      <td>1.0</td>\n",
       "      <td>99999.0</td>\n",
       "    </tr>\n",
       "  </tbody>\n",
       "</table>\n",
       "</div>"
      ],
      "text/plain": [
       "                 days_since_prior_order                prices              \n",
       "                                   mean  min   max       mean  min      max\n",
       "alcohol_category                                                           \n",
       "Drinks_alcohol                10.137894  0.0  30.0  11.560303  1.0  99999.0\n",
       "No_alcohol                    12.630971  0.0  30.0  12.618018  1.0  99999.0"
      ]
     },
     "execution_count": 57,
     "metadata": {},
     "output_type": "execute_result"
    }
   ],
   "source": [
    "ords_prods_cust.groupby('alcohol_category').agg({'days_since_prior_order': ['mean', 'min', 'max'], 'prices': ['mean', 'min', 'max']})"
   ]
  },
  {
   "cell_type": "markdown",
   "id": "9922208d",
   "metadata": {},
   "source": [
    "### Parent category"
   ]
  },
  {
   "cell_type": "code",
   "execution_count": 58,
   "id": "24549a27",
   "metadata": {},
   "outputs": [
    {
     "data": {
      "text/html": [
       "<div>\n",
       "<style scoped>\n",
       "    .dataframe tbody tr th:only-of-type {\n",
       "        vertical-align: middle;\n",
       "    }\n",
       "\n",
       "    .dataframe tbody tr th {\n",
       "        vertical-align: top;\n",
       "    }\n",
       "\n",
       "    .dataframe thead tr th {\n",
       "        text-align: left;\n",
       "    }\n",
       "\n",
       "    .dataframe thead tr:last-of-type th {\n",
       "        text-align: right;\n",
       "    }\n",
       "</style>\n",
       "<table border=\"1\" class=\"dataframe\">\n",
       "  <thead>\n",
       "    <tr>\n",
       "      <th></th>\n",
       "      <th colspan=\"3\" halign=\"left\">days_since_prior_order</th>\n",
       "      <th colspan=\"3\" halign=\"left\">prices</th>\n",
       "    </tr>\n",
       "    <tr>\n",
       "      <th></th>\n",
       "      <th>mean</th>\n",
       "      <th>min</th>\n",
       "      <th>max</th>\n",
       "      <th>mean</th>\n",
       "      <th>min</th>\n",
       "      <th>max</th>\n",
       "    </tr>\n",
       "    <tr>\n",
       "      <th>parent_category</th>\n",
       "      <th></th>\n",
       "      <th></th>\n",
       "      <th></th>\n",
       "      <th></th>\n",
       "      <th></th>\n",
       "      <th></th>\n",
       "    </tr>\n",
       "  </thead>\n",
       "  <tbody>\n",
       "    <tr>\n",
       "      <th>No children</th>\n",
       "      <td>11.080597</td>\n",
       "      <td>0.0</td>\n",
       "      <td>30.0</td>\n",
       "      <td>12.129243</td>\n",
       "      <td>1.0</td>\n",
       "      <td>99999.0</td>\n",
       "    </tr>\n",
       "    <tr>\n",
       "      <th>Parent</th>\n",
       "      <td>11.111977</td>\n",
       "      <td>0.0</td>\n",
       "      <td>30.0</td>\n",
       "      <td>11.930584</td>\n",
       "      <td>1.0</td>\n",
       "      <td>99999.0</td>\n",
       "    </tr>\n",
       "  </tbody>\n",
       "</table>\n",
       "</div>"
      ],
      "text/plain": [
       "                days_since_prior_order                prices              \n",
       "                                  mean  min   max       mean  min      max\n",
       "parent_category                                                           \n",
       "No children                  11.080597  0.0  30.0  12.129243  1.0  99999.0\n",
       "Parent                       11.111977  0.0  30.0  11.930584  1.0  99999.0"
      ]
     },
     "execution_count": 58,
     "metadata": {},
     "output_type": "execute_result"
    }
   ],
   "source": [
    "ords_prods_cust.groupby('parent_category').agg({'days_since_prior_order': ['mean', 'min', 'max'], 'prices': ['mean', 'min', 'max']})"
   ]
  },
  {
   "cell_type": "markdown",
   "id": "c34afcba",
   "metadata": {},
   "source": [
    "## Regional differences\n",
    "Compare your customer profiles with regions and departments. Can you identify a link between them? Customers may demonstrate different behaviors across regions, which could make this information important."
   ]
  },
  {
   "cell_type": "markdown",
   "id": "a29e20ff",
   "metadata": {},
   "source": [
    "### Age vs region"
   ]
  },
  {
   "cell_type": "code",
   "execution_count": 59,
   "id": "a471f30c",
   "metadata": {},
   "outputs": [],
   "source": [
    "# region age difference\n",
    "region_age_crosstab = pd.crosstab(ords_prods_cust_profile['region'], ords_prods_cust_profile['age_category'], dropna = False)"
   ]
  },
  {
   "cell_type": "code",
   "execution_count": 60,
   "id": "f3a04fce",
   "metadata": {},
   "outputs": [
    {
     "data": {
      "text/html": [
       "<div>\n",
       "<style scoped>\n",
       "    .dataframe tbody tr th:only-of-type {\n",
       "        vertical-align: middle;\n",
       "    }\n",
       "\n",
       "    .dataframe tbody tr th {\n",
       "        vertical-align: top;\n",
       "    }\n",
       "\n",
       "    .dataframe thead th {\n",
       "        text-align: right;\n",
       "    }\n",
       "</style>\n",
       "<table border=\"1\" class=\"dataframe\">\n",
       "  <thead>\n",
       "    <tr style=\"text-align: right;\">\n",
       "      <th>age_category</th>\n",
       "      <th>Midage</th>\n",
       "      <th>Senior</th>\n",
       "      <th>Young</th>\n",
       "    </tr>\n",
       "    <tr>\n",
       "      <th>region</th>\n",
       "      <th></th>\n",
       "      <th></th>\n",
       "      <th></th>\n",
       "    </tr>\n",
       "  </thead>\n",
       "  <tbody>\n",
       "    <tr>\n",
       "      <th>Midwest</th>\n",
       "      <td>3607237</td>\n",
       "      <td>1992375</td>\n",
       "      <td>2004404</td>\n",
       "    </tr>\n",
       "    <tr>\n",
       "      <th>Northeast</th>\n",
       "      <td>2635836</td>\n",
       "      <td>1555431</td>\n",
       "      <td>1537177</td>\n",
       "    </tr>\n",
       "    <tr>\n",
       "      <th>South</th>\n",
       "      <td>5062159</td>\n",
       "      <td>2838827</td>\n",
       "      <td>2900996</td>\n",
       "    </tr>\n",
       "    <tr>\n",
       "      <th>West</th>\n",
       "      <td>3911287</td>\n",
       "      <td>2196176</td>\n",
       "      <td>2193154</td>\n",
       "    </tr>\n",
       "  </tbody>\n",
       "</table>\n",
       "</div>"
      ],
      "text/plain": [
       "age_category   Midage   Senior    Young\n",
       "region                                 \n",
       "Midwest       3607237  1992375  2004404\n",
       "Northeast     2635836  1555431  1537177\n",
       "South         5062159  2838827  2900996\n",
       "West          3911287  2196176  2193154"
      ]
     },
     "execution_count": 60,
     "metadata": {},
     "output_type": "execute_result"
    }
   ],
   "source": [
    "region_age_crosstab.head()"
   ]
  },
  {
   "cell_type": "code",
   "execution_count": 61,
   "id": "660f184f",
   "metadata": {},
   "outputs": [
    {
     "data": {
      "image/png": "[encoded data removed]",
      "text/plain": [
       "<Figure size 640x480 with 1 Axes>"
      ]
     },
     "metadata": {},
     "output_type": "display_data"
    }
   ],
   "source": [
    "#creating a bar chart\n",
    "region_age_crosstab.plot(kind ='bar', color = ['red', 'blue', 'orange'], title = 'Age category by region')\n",
    "plt.savefig(os.path.join(path, '04 Analysis', 'Visualizations', 'region_age_bar.png' ))"
   ]
  },
  {
   "cell_type": "markdown",
   "id": "68bc3404",
   "metadata": {},
   "source": [
    "### Income vs region"
   ]
  },
  {
   "cell_type": "code",
   "execution_count": 62,
   "id": "a296655d",
   "metadata": {},
   "outputs": [],
   "source": [
    "# region income difference\n",
    "region_income_crosstab = pd.crosstab(ords_prods_cust_profile['region'], ords_prods_cust_profile['income_category'], dropna = False)"
   ]
  },
  {
   "cell_type": "code",
   "execution_count": 63,
   "id": "3d6732f0",
   "metadata": {},
   "outputs": [
    {
     "data": {
      "text/html": [
       "<div>\n",
       "<style scoped>\n",
       "    .dataframe tbody tr th:only-of-type {\n",
       "        vertical-align: middle;\n",
       "    }\n",
       "\n",
       "    .dataframe tbody tr th {\n",
       "        vertical-align: top;\n",
       "    }\n",
       "\n",
       "    .dataframe thead th {\n",
       "        text-align: right;\n",
       "    }\n",
       "</style>\n",
       "<table border=\"1\" class=\"dataframe\">\n",
       "  <thead>\n",
       "    <tr style=\"text-align: right;\">\n",
       "      <th>income_category</th>\n",
       "      <th>High</th>\n",
       "      <th>Low</th>\n",
       "      <th>Mid</th>\n",
       "    </tr>\n",
       "    <tr>\n",
       "      <th>region</th>\n",
       "      <th></th>\n",
       "      <th></th>\n",
       "      <th></th>\n",
       "    </tr>\n",
       "  </thead>\n",
       "  <tbody>\n",
       "    <tr>\n",
       "      <th>Midwest</th>\n",
       "      <td>2281397</td>\n",
       "      <td>839200</td>\n",
       "      <td>4483419</td>\n",
       "    </tr>\n",
       "    <tr>\n",
       "      <th>Northeast</th>\n",
       "      <td>1703567</td>\n",
       "      <td>628010</td>\n",
       "      <td>3396867</td>\n",
       "    </tr>\n",
       "    <tr>\n",
       "      <th>South</th>\n",
       "      <td>3157338</td>\n",
       "      <td>1220859</td>\n",
       "      <td>6423785</td>\n",
       "    </tr>\n",
       "    <tr>\n",
       "      <th>West</th>\n",
       "      <td>2437507</td>\n",
       "      <td>909876</td>\n",
       "      <td>4953234</td>\n",
       "    </tr>\n",
       "  </tbody>\n",
       "</table>\n",
       "</div>"
      ],
      "text/plain": [
       "income_category     High      Low      Mid\n",
       "region                                    \n",
       "Midwest          2281397   839200  4483419\n",
       "Northeast        1703567   628010  3396867\n",
       "South            3157338  1220859  6423785\n",
       "West             2437507   909876  4953234"
      ]
     },
     "execution_count": 63,
     "metadata": {},
     "output_type": "execute_result"
    }
   ],
   "source": [
    "region_income_crosstab.head()"
   ]
  },
  {
   "cell_type": "code",
   "execution_count": 64,
   "id": "817d1df4",
   "metadata": {},
   "outputs": [
    {
     "data": {
      "image/png": "[encoded data removed]",
      "text/plain": [
       "<Figure size 640x480 with 1 Axes>"
      ]
     },
     "metadata": {},
     "output_type": "display_data"
    }
   ],
   "source": [
    "#creating a bar chart\n",
    "region_income_crosstab.plot(kind ='bar', color = ['red', 'blue', 'orange'], title = 'Income category by region')\n",
    "plt.savefig(os.path.join(path, '04 Analysis', 'Visualizations', 'region_income_bar.png' ))"
   ]
  },
  {
   "cell_type": "markdown",
   "id": "f59d1c8d",
   "metadata": {},
   "source": [
    "### Alcohol vs region"
   ]
  },
  {
   "cell_type": "code",
   "execution_count": 65,
   "id": "462773ea",
   "metadata": {},
   "outputs": [],
   "source": [
    "# region alcohol difference\n",
    "region_alcohol_crosstab = pd.crosstab(ords_prods_cust_profile['region'], ords_prods_cust_profile['alcohol_category'], dropna = False)"
   ]
  },
  {
   "cell_type": "code",
   "execution_count": 66,
   "id": "35cb3520",
   "metadata": {},
   "outputs": [
    {
     "data": {
      "text/html": [
       "<div>\n",
       "<style scoped>\n",
       "    .dataframe tbody tr th:only-of-type {\n",
       "        vertical-align: middle;\n",
       "    }\n",
       "\n",
       "    .dataframe tbody tr th {\n",
       "        vertical-align: top;\n",
       "    }\n",
       "\n",
       "    .dataframe thead th {\n",
       "        text-align: right;\n",
       "    }\n",
       "</style>\n",
       "<table border=\"1\" class=\"dataframe\">\n",
       "  <thead>\n",
       "    <tr style=\"text-align: right;\">\n",
       "      <th>alcohol_category</th>\n",
       "      <th>Drinks_alcohol</th>\n",
       "      <th>No_alcohol</th>\n",
       "    </tr>\n",
       "    <tr>\n",
       "      <th>region</th>\n",
       "      <th></th>\n",
       "      <th></th>\n",
       "    </tr>\n",
       "  </thead>\n",
       "  <tbody>\n",
       "    <tr>\n",
       "      <th>Midwest</th>\n",
       "      <td>4583185</td>\n",
       "      <td>3020831</td>\n",
       "    </tr>\n",
       "    <tr>\n",
       "      <th>Northeast</th>\n",
       "      <td>3453658</td>\n",
       "      <td>2274786</td>\n",
       "    </tr>\n",
       "    <tr>\n",
       "      <th>South</th>\n",
       "      <td>6486233</td>\n",
       "      <td>4315749</td>\n",
       "    </tr>\n",
       "    <tr>\n",
       "      <th>West</th>\n",
       "      <td>5032941</td>\n",
       "      <td>3267676</td>\n",
       "    </tr>\n",
       "  </tbody>\n",
       "</table>\n",
       "</div>"
      ],
      "text/plain": [
       "alcohol_category  Drinks_alcohol  No_alcohol\n",
       "region                                      \n",
       "Midwest                  4583185     3020831\n",
       "Northeast                3453658     2274786\n",
       "South                    6486233     4315749\n",
       "West                     5032941     3267676"
      ]
     },
     "execution_count": 66,
     "metadata": {},
     "output_type": "execute_result"
    }
   ],
   "source": [
    "region_alcohol_crosstab.head()"
   ]
  },
  {
   "cell_type": "code",
   "execution_count": 67,
   "id": "778ac95a",
   "metadata": {},
   "outputs": [
    {
     "data": {
      "image/png": "[encoded data removed]",
      "text/plain": [
       "<Figure size 640x480 with 1 Axes>"
      ]
     },
     "metadata": {},
     "output_type": "display_data"
    }
   ],
   "source": [
    "#creating a bar chart\n",
    "region_alcohol_crosstab.plot(kind ='bar', color = ['red', 'blue', 'orange'], title = 'Alcohol category by region')\n",
    "plt.savefig(os.path.join(path, '04 Analysis', 'Visualizations', 'region_alcohol_bar.png' ))"
   ]
  },
  {
   "cell_type": "markdown",
   "id": "d8cedbcb",
   "metadata": {},
   "source": [
    "### Parent vs region"
   ]
  },
  {
   "cell_type": "code",
   "execution_count": 68,
   "id": "f5a7db7e",
   "metadata": {},
   "outputs": [],
   "source": [
    "# region parent difference\n",
    "region_parent_crosstab = pd.crosstab(ords_prods_cust_profile['region'], ords_prods_cust_profile['parent_category'], dropna = False)"
   ]
  },
  {
   "cell_type": "code",
   "execution_count": 69,
   "id": "293491de",
   "metadata": {},
   "outputs": [
    {
     "data": {
      "text/html": [
       "<div>\n",
       "<style scoped>\n",
       "    .dataframe tbody tr th:only-of-type {\n",
       "        vertical-align: middle;\n",
       "    }\n",
       "\n",
       "    .dataframe tbody tr th {\n",
       "        vertical-align: top;\n",
       "    }\n",
       "\n",
       "    .dataframe thead th {\n",
       "        text-align: right;\n",
       "    }\n",
       "</style>\n",
       "<table border=\"1\" class=\"dataframe\">\n",
       "  <thead>\n",
       "    <tr style=\"text-align: right;\">\n",
       "      <th>parent_category</th>\n",
       "      <th>No children</th>\n",
       "      <th>Parent</th>\n",
       "    </tr>\n",
       "    <tr>\n",
       "      <th>region</th>\n",
       "      <th></th>\n",
       "      <th></th>\n",
       "    </tr>\n",
       "  </thead>\n",
       "  <tbody>\n",
       "    <tr>\n",
       "      <th>Midwest</th>\n",
       "      <td>1906983</td>\n",
       "      <td>5697033</td>\n",
       "    </tr>\n",
       "    <tr>\n",
       "      <th>Northeast</th>\n",
       "      <td>1419716</td>\n",
       "      <td>4308728</td>\n",
       "    </tr>\n",
       "    <tr>\n",
       "      <th>South</th>\n",
       "      <td>2704297</td>\n",
       "      <td>8097685</td>\n",
       "    </tr>\n",
       "    <tr>\n",
       "      <th>West</th>\n",
       "      <td>2074349</td>\n",
       "      <td>6226268</td>\n",
       "    </tr>\n",
       "  </tbody>\n",
       "</table>\n",
       "</div>"
      ],
      "text/plain": [
       "parent_category  No children   Parent\n",
       "region                               \n",
       "Midwest              1906983  5697033\n",
       "Northeast            1419716  4308728\n",
       "South                2704297  8097685\n",
       "West                 2074349  6226268"
      ]
     },
     "execution_count": 69,
     "metadata": {},
     "output_type": "execute_result"
    }
   ],
   "source": [
    "region_parent_crosstab.head()"
   ]
  },
  {
   "cell_type": "code",
   "execution_count": 70,
   "id": "0acca9d2",
   "metadata": {},
   "outputs": [
    {
     "data": {
      "image/png": "[encoded data removed]",
      "text/plain": [
       "<Figure size 640x480 with 1 Axes>"
      ]
     },
     "metadata": {},
     "output_type": "display_data"
    }
   ],
   "source": [
    "#creating a bar chart\n",
    "region_parent_crosstab.plot(kind ='bar', color = ['red', 'blue', 'orange'], title = 'Parent category by region')\n",
    "plt.savefig(os.path.join(path, '04 Analysis', 'Visualizations', 'region_parent_bar.png' ))"
   ]
  }
 ],
 "metadata": {
  "kernelspec": {
   "display_name": "Python 3 (ipykernel)",
   "language": "python",
   "name": "python3"
  },
  "language_info": {
   "codemirror_mode": {
    "name": "ipython",
    "version": 3
   },
   "file_extension": ".py",
   "mimetype": "text/x-python",
   "name": "python",
   "nbconvert_exporter": "python",
   "pygments_lexer": "ipython3",
   "version": "3.10.9"
  }
 },
 "nbformat": 4,
 "nbformat_minor": 5
}
